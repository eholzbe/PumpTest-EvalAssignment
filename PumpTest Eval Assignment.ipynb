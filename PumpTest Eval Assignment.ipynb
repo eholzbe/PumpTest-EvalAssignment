{
 "cells": [
  {
   "cell_type": "markdown",
   "metadata": {
    "hideCode": false,
    "hidePrompt": false
   },
   "source": [
    "<font size = 6px, style=\"color:blue\">**Pumping Test Evaluation Assignment**</font>\n",
    "\n",
    "<font size = 4px> fitting to Theis and Hantush solutions</font>\n",
    "\n",
    "*Prof. habil. Dr.-Ing. Dipl.-Math. Ekkehard Holzbecher*"
   ]
  },
  {
   "cell_type": "markdown",
   "metadata": {
    "hideCode": false,
    "hidePrompt": false,
    "toc": true
   },
   "source": [
    "<h1>Table of Contents<span class=\"tocSkip\"></span></h1>\n",
    "<div class=\"toc\"><ul class=\"toc-item\"><li><span><a href=\"#Pump-Test\" data-toc-modified-id=\"Pump-Test-1\"><span class=\"toc-item-num\">1&nbsp;&nbsp;</span>Pump Test</a></span></li><li><span><a href=\"#Data-Read-and-View\" data-toc-modified-id=\"Data-Read-and-View-2\"><span class=\"toc-item-num\">2&nbsp;&nbsp;</span>Data Read and View</a></span></li><li><span><a href=\"#Parameter-Estimation\" data-toc-modified-id=\"Parameter-Estimation-3\"><span class=\"toc-item-num\">3&nbsp;&nbsp;</span>Parameter Estimation</a></span><ul class=\"toc-item\"><li><span><a href=\"#Evaluation-according-to-Theis\" data-toc-modified-id=\"Evaluation-according-to-Theis-3.1\"><span class=\"toc-item-num\">3.1&nbsp;&nbsp;</span>Evaluation according to Theis</a></span></li><li><span><a href=\"#Evaluation-according-to-Hantush\" data-toc-modified-id=\"Evaluation-according-to-Hantush-3.2\"><span class=\"toc-item-num\">3.2&nbsp;&nbsp;</span>Evaluation according to Hantush</a></span></li></ul></li></ul></div>"
   ]
  },
  {
   "cell_type": "markdown",
   "metadata": {
    "hideCode": false,
    "hidePrompt": false
   },
   "source": [
    "# Pump Test "
   ]
  },
  {
   "cell_type": "markdown",
   "metadata": {
    "hideCode": false,
    "hidePrompt": false
   },
   "source": [
    "To start, enter pump test identification! "
   ]
  },
  {
   "cell_type": "code",
   "execution_count": 36,
   "metadata": {
    "hideCode": false,
    "hidePrompt": false,
    "hide_input": false
   },
   "outputs": [
    {
     "data": {
      "application/vnd.jupyter.widget-view+json": {
       "model_id": "5558470e883545b2882d536e6f712543",
       "version_major": 2,
       "version_minor": 0
      },
      "text/plain": [
       "Text(value='ID', description='Pump test')"
      ]
     },
     "metadata": {},
     "output_type": "display_data"
    }
   ],
   "source": [
    "import os\n",
    "import ipywidgets as widgets\n",
    "import pandas as pd\n",
    "import matplotlib.pyplot as plt\n",
    "import numpy as np\n",
    "from pint import UnitRegistry\n",
    "ureg = UnitRegistry()\n",
    "t1 = pd.Series([1.0]); s1 = pd.Series([1.0])   \n",
    "tdata = np.arange(1); sdata = np.arange(1)\n",
    "wheader = widgets.Text(value='ID', description='Pump test', disabled=False)\n",
    "wheader"
   ]
  },
  {
   "cell_type": "markdown",
   "metadata": {
    "hideCode": false,
    "hidePrompt": false
   },
   "source": [
    "The pump test can be evaluated according to the solutions of Theis and Hantush for flow towards a single well with fully penetrating screen in a uniform aquifer of infinite extent having as yet unknown transmissivity $T$ and storativity $S$. In a confined aquifer according to Theis (1952) the solution for drawdown $s$ as function of distance from the pumping well $r$ and time $t$ is given by:"
   ]
  },
  {
   "cell_type": "markdown",
   "metadata": {
    "hideCode": false,
    "hidePrompt": false
   },
   "source": [
    "$$ s(r, t) = \\frac Q {4 \\pi T} W(u),\\,\\,\\,\\, u = \\frac {r^2 S} {4 T t}$$"
   ]
  },
  {
   "cell_type": "markdown",
   "metadata": {
    "hideCode": false,
    "hidePrompt": false
   },
   "source": [
    "$Q$ the pumping rate and $W$ is the well function, also known as exponential integral. The physical unit of transmissivity is area/time. The storativity is dimensionless.   "
   ]
  },
  {
   "cell_type": "markdown",
   "metadata": {
    "hideCode": false,
    "hidePrompt": false
   },
   "source": [
    "For a leaky aquifer the drawdown is given by the Hantush well function $W$, which has two arguments:"
   ]
  },
  {
   "cell_type": "markdown",
   "metadata": {
    "hideCode": false,
    "hidePrompt": false
   },
   "source": [
    "$$ s(r, t) = \\frac Q {4 \\pi T} W(u,r/\\lambda)$$"
   ]
  },
  {
   "cell_type": "markdown",
   "metadata": {
    "hideCode": false,
    "hidePrompt": false
   },
   "source": [
    "with $\\lambda=\\sqrt{T\\cdot c}$ where $c$ denotes the resistance of the over-lying semipermeable layer, which is the third yet unknown parameter. The physcial unit of resistance is time. The equation was derived assuming an overall source (Hantush & Jacob 1955, Hantush 1956). "
   ]
  },
  {
   "cell_type": "markdown",
   "metadata": {
    "hideCode": false,
    "hidePrompt": false
   },
   "source": [
    "The physical units for time and space can be chosen by the modeller. SI units are used as default for physical units, i.e. [m] for spatial dimension, and [s] for time. Physical units for parameters in in- and output are derived from these settings. The data in the file can have different time and space dimensions. The read data values are converted into the units chosen here.    "
   ]
  },
  {
   "cell_type": "code",
   "execution_count": 68,
   "metadata": {
    "hideCode": false,
    "hidePrompt": false,
    "hide_input": true
   },
   "outputs": [
    {
     "data": {
      "application/vnd.jupyter.widget-view+json": {
       "model_id": "242e1a42f3704d4ab36b02fef405234a",
       "version_major": 2,
       "version_minor": 0
      },
      "text/plain": [
       "Dropdown(description='length unit', index=3, options=('mm', 'cm', 'dm', 'm'), value='m')"
      ]
     },
     "metadata": {},
     "output_type": "display_data"
    },
    {
     "data": {
      "application/vnd.jupyter.widget-view+json": {
       "model_id": "08cc2a88d62f4a1bbca743565d9b349c",
       "version_major": 2,
       "version_minor": 0
      },
      "text/plain": [
       "Dropdown(description='time unit', options=('s', 'min', 'hour', 'd'), value='s')"
      ]
     },
     "metadata": {},
     "output_type": "display_data"
    }
   ],
   "source": [
    "Lunits = widgets.Dropdown(\n",
    "    options=['mm','cm','dm','m'], value='m', description = \"length unit\"\n",
    ")\n",
    "Tunits = widgets.Dropdown(\n",
    "    options=['s','min','hour','d'], value='s', description = \"time unit\"\n",
    ")\n",
    "\n",
    "def dropdown_eventhandler(change):\n",
    "    pass\n",
    "\n",
    "Lunits.observe(dropdown_eventhandler, names='value')\n",
    "Tunits.observe(dropdown_eventhandler, names='value')\n",
    "display(Lunits)\n",
    "display(Tunits)"
   ]
  },
  {
   "cell_type": "markdown",
   "metadata": {
    "hideCode": false,
    "hidePrompt": false,
    "hide_input": true
   },
   "source": [
    "Enter distance between pumping well and observation point! Use the dot for decimals."
   ]
  },
  {
   "cell_type": "code",
   "execution_count": 3,
   "metadata": {
    "hideCode": false,
    "hidePrompt": false,
    "hide_input": true
   },
   "outputs": [
    {
     "data": {
      "application/vnd.jupyter.widget-view+json": {
       "model_id": "d0bc424f9a7644f7babdf09b70c010ec",
       "version_major": 2,
       "version_minor": 0
      },
      "text/plain": [
       "BoundedFloatText(value=30.0, description='Distance:', max=1000.0, step=1.0)"
      ]
     },
     "metadata": {},
     "output_type": "display_data"
    }
   ],
   "source": [
    "wr = widgets.BoundedFloatText(value=30.0, min=0, max=1000.0, step=1, description='Distance:', disabled=False)\n",
    "wr"
   ]
  },
  {
   "cell_type": "markdown",
   "metadata": {
    "hideCode": false,
    "hidePrompt": false
   },
   "source": [
    "Enter the pumping rate using length and time units as specified above."
   ]
  },
  {
   "cell_type": "code",
   "execution_count": 4,
   "metadata": {
    "hideCode": false,
    "hidePrompt": false,
    "hide_input": true
   },
   "outputs": [
    {
     "data": {
      "application/vnd.jupyter.widget-view+json": {
       "model_id": "827f351dbf2f4cd98d7c37762b71d5a5",
       "version_major": 2,
       "version_minor": 0
      },
      "text/plain": [
       "BoundedFloatText(value=0.00889, description='Pumprate:', max=10000.0)"
      ]
     },
     "metadata": {},
     "output_type": "display_data"
    }
   ],
   "source": [
    "wQ = widgets.BoundedFloatText(value=0.00889, min=0, max=10000.0, description='Pumprate:', disabled=False)\n",
    "wQ"
   ]
  },
  {
   "cell_type": "markdown",
   "metadata": {
    "hideCode": false,
    "hidePrompt": false
   },
   "source": [
    "# Data Read and View"
   ]
  },
  {
   "cell_type": "markdown",
   "metadata": {
    "hideCode": false,
    "hidePrompt": false,
    "hide_input": true
   },
   "source": [
    "Pumptest data, time instants and observed drawdowns, are read from file or from clipboard. Use one of the options below. \n",
    "\n",
    "The physical units of read data can be different from the ones used in the evaluation. Specify the length and time units of drawdown and time values to be read! "
   ]
  },
  {
   "cell_type": "code",
   "execution_count": 70,
   "metadata": {
    "hideCode": false,
    "hidePrompt": false,
    "hide_input": true
   },
   "outputs": [
    {
     "data": {
      "application/vnd.jupyter.widget-view+json": {
       "model_id": "9543a78b7dfd4e67ae73f69c1d445c2b",
       "version_major": 2,
       "version_minor": 0
      },
      "text/plain": [
       "Dropdown(description='data length unit', disabled=True, index=3, options=('mm', 'cm', 'dm', 'm'), value='m')"
      ]
     },
     "metadata": {},
     "output_type": "display_data"
    },
    {
     "data": {
      "application/vnd.jupyter.widget-view+json": {
       "model_id": "638386b7fcdf402ebefa9611b58ab3fb",
       "version_major": 2,
       "version_minor": 0
      },
      "text/plain": [
       "Dropdown(description='data time unit', disabled=True, options=('s', 'min', 'hour', 'd'), value='s')"
      ]
     },
     "metadata": {},
     "output_type": "display_data"
    }
   ],
   "source": [
    "dataLunits = widgets.Dropdown(\n",
    "    options=['mm','cm','dm','m'], value='m', description = \"data length unit\", disabled=True\n",
    ")\n",
    "dataTunits = widgets.Dropdown(\n",
    "    options=['s','min','hour','d'], value='s', description = \"data time unit\", disabled=True\n",
    ")\n",
    "\n",
    "def dropdown_eventhandler(change):\n",
    "    pass\n",
    "\n",
    "dataLunits.observe(dropdown_eventhandler, names='value')\n",
    "dataTunits.observe(dropdown_eventhandler, names='value')\n",
    "display(dataLunits)\n",
    "display(dataTunits)"
   ]
  },
  {
   "cell_type": "code",
   "execution_count": 69,
   "metadata": {
    "hideCode": false,
    "hidePrompt": false,
    "hide_input": true,
    "scrolled": true
   },
   "outputs": [
    {
     "data": {
      "application/vnd.jupyter.widget-view+json": {
       "model_id": "bd802c06857d43f9aaadd6a7970e2007",
       "version_major": 2,
       "version_minor": 0
      },
      "text/plain": [
       "VBox(children=(Button(description='Convert data', style=ButtonStyle()),))"
      ]
     },
     "metadata": {},
     "output_type": "display_data"
    },
    {
     "name": "stdout",
     "output_type": "stream",
     "text": [
      "Data ready\n",
      "Data ready\n",
      "Data ready\n",
      "Data ready\n"
     ]
    }
   ],
   "source": [
    "tdata = np.arange(1); sdata = np.arange(1)\n",
    "\n",
    "def on_weval0_clicked(self):\n",
    "    global sdata,tdata\n",
    "    t1 = np.array ([180,330,480,720,1200,1440,1800,2280,2820,3000,3600,4200,4800,5400,\n",
    "            6000,7800,9600,12000,15600,19200,22800,30000])                # time in seconds!\n",
    "    s1 = np.array ([0.09144,0.21336,0.39624,0.64008,0.97536,1.09728,1.24968,1.43256,1.55448,\n",
    "               1.61544,1.73736,1.85928,1.92024,2.04216,2.1336,2.286,2.52984,2.5908,2.80416,\n",
    "               2.95656,3.10896,3.32232])\n",
    "    tdatau = t1 * ureg(dataTunits.value); sdatau = s1 * ureg(dataLunits.value)\n",
    "    tdata = tdatau.to(Tunits.value).magnitude; sdata = sdatau.to(Lunits.value).magnitude\n",
    "    print ('Data ready')\n",
    "   \n",
    "weval0 = widgets.Button(description='Convert data')        \n",
    "weval0.on_click(on_weval0_clicked)   \n",
    "widgets.VBox([weval0]) "
   ]
  },
  {
   "cell_type": "markdown",
   "metadata": {
    "hideCode": false,
    "hidePrompt": false
   },
   "source": [
    "Plot data in real scale, time log scale, double log scale and double log! Click the cotresponding buttons!"
   ]
  },
  {
   "cell_type": "code",
   "execution_count": 72,
   "metadata": {
    "hideCode": false,
    "hidePrompt": false,
    "hide_input": false,
    "scrolled": false
   },
   "outputs": [
    {
     "data": {
      "application/vnd.jupyter.widget-view+json": {
       "model_id": "b6e3e9d7fb51481fa740d74f99e248c2",
       "version_major": 2,
       "version_minor": 0
      },
      "text/plain": [
       "VBox(children=(Button(description='Plot data', style=ButtonStyle()),))"
      ]
     },
     "metadata": {},
     "output_type": "display_data"
    }
   ],
   "source": [
    "%matplotlib notebook\n",
    "%matplotlib notebook\n",
    "plt.rcParams[\"figure.figsize\"] = (8,4) \n",
    "plt.rcParams['axes.facecolor'] = 'lightgray';\n",
    "\n",
    "def on_wp1_clicked(self): \n",
    "    fig = plt.figure(facecolor='w'); ax = plt.gca() \n",
    "    plt.plot (tdata,sdata, '.-', label = 'observation' )\n",
    "    plt.title('Pumptest: '+wheader.value)\n",
    "    plt.xlabel('time ['+Tunits.value+']')\n",
    "    plt.ylabel('drawdown ['+Lunits.value+']')\n",
    "    ax.grid(b=True, c='w', lw=2, ls='-')\n",
    "    plt.legend(loc='center right');\n",
    "    \n",
    "wp1 = widgets.Button(description='Plot data')        \n",
    "wp1.on_click(on_wp1_clicked)   \n",
    "widgets.VBox([wp1])    "
   ]
  },
  {
   "cell_type": "code",
   "execution_count": 61,
   "metadata": {
    "hideCode": false,
    "hidePrompt": false,
    "hide_input": false
   },
   "outputs": [
    {
     "data": {
      "application/vnd.jupyter.widget-view+json": {
       "model_id": "05f4565df42a48dfa7a930062cbc7b4d",
       "version_major": 2,
       "version_minor": 0
      },
      "text/plain": [
       "VBox(children=(Button(description='Plot log scale', style=ButtonStyle()),))"
      ]
     },
     "metadata": {},
     "output_type": "display_data"
    }
   ],
   "source": [
    "%matplotlib notebook\n",
    "%matplotlib notebook\n",
    "plt.rcParams[\"figure.figsize\"] = (8,4) \n",
    "plt.rcParams['axes.facecolor'] = 'lightgray';\n",
    "\n",
    "def on_wp2_clicked(self):\n",
    "    fig = plt.figure(facecolor='w'); ax = fig.add_subplot()\n",
    "    ax.set_xscale('log')\n",
    "    plt.plot (tdata,sdata, '.-', label = 'observation' )\n",
    "    plt.title('Pumptest: '+wheader.value)\n",
    "    plt.xlabel('time ['+dataTunits.value+']')\n",
    "    plt.ylabel('drawdown ['+dataLunits.value+']')\n",
    "    ax.grid(b=True, c='w', lw=2, ls='-')\n",
    "    plt.legend(loc = 'upper left');\n",
    "\n",
    "wp2 = widgets.Button(description='Plot log scale')        \n",
    "wp2.on_click(on_wp2_clicked)   \n",
    "widgets.VBox([wp2]) "
   ]
  },
  {
   "cell_type": "code",
   "execution_count": 60,
   "metadata": {
    "hideCode": false,
    "hidePrompt": false,
    "hide_input": true
   },
   "outputs": [
    {
     "data": {
      "application/vnd.jupyter.widget-view+json": {
       "model_id": "d33536d8b4af4896beb0bb361ce9a1f1",
       "version_major": 2,
       "version_minor": 0
      },
      "text/plain": [
       "VBox(children=(Button(description='Plot loglog scale', style=ButtonStyle()),))"
      ]
     },
     "metadata": {},
     "output_type": "display_data"
    }
   ],
   "source": [
    "%matplotlib notebook\n",
    "%matplotlib notebook\n",
    "plt.rcParams[\"figure.figsize\"] = (8,4) \n",
    "plt.rcParams['axes.facecolor'] = 'lightgray';\n",
    "\n",
    "def on_wp3_clicked(self): \n",
    "    fig = plt.figure(facecolor='w'); ax = fig.add_subplot()\n",
    "    ax.set_xscale('log'); ax.set_yscale('log')\n",
    "    plt.plot (tdata,sdata, '.-', label = 'observation' )\n",
    "    plt.title('Pumptest: '+wheader.value)\n",
    "    plt.xlabel('time ['+dataTunits.value+']')\n",
    "    plt.ylabel('drawdown ['+dataLunits.value+']')\n",
    "    ax.grid(b=True, c='w', lw=2, ls='-')\n",
    "    plt.legend(loc = 'lower right');\n",
    "\n",
    "wp3 = widgets.Button(description='Plot loglog scale')        \n",
    "wp3.on_click(on_wp3_clicked)   \n",
    "widgets.VBox([wp3]) "
   ]
  },
  {
   "cell_type": "markdown",
   "metadata": {
    "hideCode": false,
    "hidePrompt": false,
    "hide_input": false
   },
   "source": [
    "# Parameter Estimation"
   ]
  },
  {
   "cell_type": "markdown",
   "metadata": {
    "hideCode": false,
    "hidePrompt": false
   },
   "source": [
    "Enter initial guesses for $T$ and $S$! The physical unit of transmissivity is derived from the length and time settings above. "
   ]
  },
  {
   "cell_type": "code",
   "execution_count": 10,
   "metadata": {
    "hideCode": false,
    "hidePrompt": false,
    "hide_input": true
   },
   "outputs": [
    {
     "data": {
      "application/vnd.jupyter.widget-view+json": {
       "model_id": "3245a5d5d038434ba17602d12e853bb9",
       "version_major": 2,
       "version_minor": 0
      },
      "text/plain": [
       "HBox(children=(FloatText(value=0.005, description='T:'), FloatText(value=0.0001, description='S:')))"
      ]
     },
     "metadata": {},
     "output_type": "display_data"
    }
   ],
   "source": [
    "wT = widgets.FloatText(value=5e-3, description='T:', min=1.e-10, disabled=False)\n",
    "wS = widgets.FloatText(value=1e-4, description='S:', min=1.e-10, disabled=False)\n",
    "widgets.HBox([wT, wS])"
   ]
  },
  {
   "cell_type": "markdown",
   "metadata": {
    "hideCode": false,
    "hidePrompt": false,
    "hide_input": true
   },
   "source": [
    "## Evaluation according to Theis\n",
    "\n",
    "For evaluating the pump test according to the formula of Theis click the button! The well function is computed using the exponential integral from the Python module *scipy.special*. "
   ]
  },
  {
   "cell_type": "code",
   "execution_count": 73,
   "metadata": {
    "hideCode": false,
    "hidePrompt": false,
    "hide_input": false,
    "scrolled": false
   },
   "outputs": [
    {
     "data": {
      "application/vnd.jupyter.widget-view+json": {
       "model_id": "4d665e5d8b9b481e9debd6c91abb850a",
       "version_major": 2,
       "version_minor": 0
      },
      "text/plain": [
       "VBox(children=(Button(description='Evaluate Theis', style=ButtonStyle()),))"
      ]
     },
     "metadata": {},
     "output_type": "display_data"
    }
   ],
   "source": [
    "from scipy.special import exp1\n",
    "from scipy.optimize import fmin\n",
    "%matplotlib notebook\n",
    "%matplotlib notebook\n",
    "plt.rcParams[\"figure.figsize\"] = (8,4) \n",
    "plt.rcParams['axes.facecolor'] = 'lightgray';\n",
    "\n",
    "def toptim (x):       \n",
    "    T = x[0]; S = x[1]; D = T/S         # calculate Theis solution\n",
    "    u = (((wr.value*wr.value)/4)/D)/tdata\n",
    "    s = wQ.value*exp1(u)/4/np.pi/T\n",
    "    res = (s-sdata)\n",
    "    return sum(res*res)                 # function f to be minimized\n",
    "\n",
    "def on_weval1_clicked(self):            # convert input data\n",
    "    global tdata,sdata\n",
    "    #[tdata,sdata] = uconvert(t1,s1)\n",
    "    #tdata = tdatau.to(Tunits.value).magnitude; sdata = sdatau.to(Lunits.value).magnitude\n",
    "    r = wr.value; ru = r * ureg(Lunits.value); print('Distance between wells: ', end =\" \"); print(ru)\n",
    "    Q = wQ.value; Qu = Q * ureg(Lunits.value+'**3/'+Tunits.value); print('Pumping rate: ', end =\" \"); print(Qu)\n",
    "    T = wT.value; Tu = T * ureg(Lunits.value+'**2/'+Tunits.value); print('Transmissivity, initial guess: ', end =\" \");print(Tu)\n",
    "    S = wS.value; Su = S * ureg(''); print('Storativity, initial guess: ', end =\" \"); print(Su)\n",
    "\n",
    "    # parameter estimation---------------------------------------------------------\n",
    "    [Tfit,Sfit] = fmin (toptim, [T,S])\n",
    "    T = Tfit * ureg(Lunits.value+'**2/'+Tunits.value) \n",
    "    S = Sfit * ureg('') \n",
    "\n",
    "    # post-processing--------------------------------------------------------------   \n",
    "    D = Tfit/Sfit #print ('Diffusivity = '+ str(D * ureg(Lunits.value+'**2/'+Tunits.value)))\n",
    "    u = (((r*r)/4)/D)/tdata\n",
    "    s = Q*exp1(u)/4/np.pi/Tfit\n",
    "    dev = sdata-s     \n",
    "    dev2 = dev*dev; res = np.sqrt(sum(dev2)) \n",
    "    stde = np.sqrt(dev2.mean())\n",
    "    sr = 2*dev.std()                            # to compare with hytool !\n",
    "    fig = plt.figure(facecolor='w'); ax = fig.add_subplot()\n",
    "    ax.set_xscale('log')\n",
    "    plt.plot(tdata,sdata,'o',label = 'measured') \n",
    "    t = np.logspace(np.log10(tdata.min()),np.log10(tdata.max()),100)\n",
    "    u = (((r*r)/4)/D)/t\n",
    "    plt.plot(t,Q*exp1(u)/4/np.pi/Tfit,'-', label = 'modelled', lw = 2)\n",
    "    plt.xlabel('t ['+Tunits.value+']'); plt.ylabel('s ['+Lunits.value+']')\n",
    "    plt.title('Pumptest: '+wheader.value+'        Evaluation: Theis')\n",
    "    ax.grid(b=True, c='w', lw=2, ls='-')\n",
    "    plt.legend ()\n",
    "    ax.annotate ('$T =%.3e %s ^2/ %s $' % (Tfit,Lunits.value,Tunits.value), xy=(.6,.4), xycoords='figure fraction')\n",
    "    ax.annotate ('$S =%.3e $' % (Sfit, ), xy=(.6,.35), xycoords='figure fraction')\n",
    "    ax.annotate ('$res = %.3e $' % (res, ), xy=(.6,.3), xycoords='figure fraction')\n",
    "    ax.annotate ('$stdev =%.3e $' % (stde, ), xy=(.6,.25), xycoords='figure fraction')\n",
    "    ax.annotate ('$2stdev =%.3e $' % (sr, ), xy=(.6,.2), xycoords='figure fraction');\n",
    "    \n",
    "weval1 = widgets.Button(description='Evaluate Theis')        \n",
    "weval1.on_click(on_weval1_clicked)   \n",
    "widgets.VBox([weval1])    "
   ]
  },
  {
   "cell_type": "markdown",
   "metadata": {
    "hideCode": false,
    "hidePrompt": false
   },
   "source": [
    "## Evaluation according to Hantush\n",
    "For the evaluation according to Hantush enter an initial guess for the semi-permeable layer resistence. Use the time unit specified above."
   ]
  },
  {
   "cell_type": "code",
   "execution_count": 12,
   "metadata": {
    "hideCode": false,
    "hidePrompt": false,
    "hide_input": true
   },
   "outputs": [
    {
     "data": {
      "application/vnd.jupyter.widget-view+json": {
       "model_id": "471e31859c4c45618e07ef2001ab68a7",
       "version_major": 2,
       "version_minor": 0
      },
      "text/plain": [
       "HBox(children=(FloatText(value=100000000.0, description='c:'),))"
      ]
     },
     "metadata": {},
     "output_type": "display_data"
    }
   ],
   "source": [
    "wc = widgets.FloatText(value=1e8, description='c:', min=1.e-10, disabled=False)\n",
    "widgets.HBox([wc])"
   ]
  },
  {
   "cell_type": "markdown",
   "metadata": {
    "hideCode": false,
    "hidePrompt": false
   },
   "source": [
    "The Hantush well function is computed following Maas & Veling (2010) and Veling & Maas (2010), using the exponential integral from the Python module *scipy.special*. For evaluating the pump test according to the formula of Hantush click the button!"
   ]
  },
  {
   "cell_type": "code",
   "execution_count": 74,
   "metadata": {
    "hideCode": false,
    "hidePrompt": false,
    "hide_input": true
   },
   "outputs": [
    {
     "data": {
      "application/vnd.jupyter.widget-view+json": {
       "model_id": "55048487135a4d9abcdee032bf218e4c",
       "version_major": 2,
       "version_minor": 0
      },
      "text/plain": [
       "VBox(children=(Button(description='Evaluate Hantush', style=ButtonStyle()),))"
      ]
     },
     "metadata": {},
     "output_type": "display_data"
    }
   ],
   "source": [
    "from scipy.special import exp1\n",
    "from scipy.special import kn as BesselK\n",
    "from scipy.optimize import fmin  #fmin_l_bfgs_b\n",
    "%matplotlib notebook\n",
    "%matplotlib notebook\n",
    "plt.rcParams[\"figure.figsize\"] = (8,4) \n",
    "plt.rcParams['axes.facecolor'] = 'lightgray';\n",
    "\n",
    "def heval (t,r,T,S,c,Q):\n",
    "    T0  = np.where(T>1.e-10,T,1.e-10) \n",
    "    S0  = np.where(S>1.e-10,S,1.e-10)\n",
    "    c0  = np.where(c>1.e-10,c,1.e-10)\n",
    "    lamda = np.sqrt(T0*c0)\n",
    "    rho = r/lamda\n",
    "    tau = np.log(2*lamda/r*t/(c0*S0))\n",
    "    s = Q/(4*np.pi*T0)*func_F(rho,tau)\n",
    "    return s                            # drawdown \n",
    "\n",
    "def func_F(rho,tau):\n",
    "    # func_F is a fast approximation of Hantush well function W\n",
    "    e = exp1(rho)\n",
    "    e0 = np.where(e>0,e,1.e-10)\n",
    "    w = (e0-BesselK(0,rho))/(e0-exp1(rho/2))\n",
    "    #if tau <= 0:\n",
    "    F0 = w*exp1(rho/2*np.exp(-tau))-(w-1)*exp1(rho*np.cosh(tau))\n",
    "    #else:   \n",
    "    F1 = 2*BesselK(0,rho) - w*exp1(rho/2*np.exp(tau)) + (w-1)*exp1(rho*np.cosh(tau))   \n",
    "    return (tau<=0)*F0+(tau>0)*F1     \n",
    "\n",
    "def optim (x):  \n",
    "    T = x[0]; S = x[1]; c = x[2] \n",
    "    s = heval (tdata,wr.value,T,S,c,wQ.value)\n",
    "    res = (s-sdata)\n",
    "    return sum(res*res)\n",
    "\n",
    "def on_weval2_clicked(self):   \n",
    "    global tdata,sdata\n",
    "    #[tdata,sdata] = uconvert(t1,s1)\n",
    "    r = wr.value; ru = r * ureg(Lunits.value); print('Distance between wells: ', end =\" \"); print(ru)\n",
    "    Q = wQ.value; Qu = Q * ureg(Lunits.value+'**3/'+Tunits.value); print('Pumping rate: ', end =\" \"); print(Qu)\n",
    "    T = wT.value; Tu = T * ureg(Lunits.value+'**2/'+Tunits.value); print('Transmissivity, initial guess: ', end =\" \");print(Tu)\n",
    "    S = wS.value; Su = S * ureg(''); print('Storativity, initial guess: ', end =\" \"); print(Su)\n",
    "    c = wc.value; cu = c * ureg(Tunits.value); print('Resistence, initial guess: ', end =\" \"); print(cu)\n",
    "\n",
    "    # parameter estimation \n",
    "    #x = fmin_l_bfgs_b(optim, [T,S,c], approx_grad=1, bounds=((1.e-10, 1.e10), (1.e-10, 1.e10), (1.e-10, 1.e10)))   \n",
    "    #Tfit = x[0][0]; Sfit = x[0][1]; cfit = x[0][2]\n",
    "    [Tfit,Sfit,cfit] = fmin (optim, [T,S,c])\n",
    "    T = Tfit * ureg(Lunits.value+'**2/'+Tunits.value) \n",
    "    S = Sfit * ureg('') \n",
    "    c = cfit * ureg(Tunits.value)\n",
    "\n",
    "    # post-processing--------------------------------------------------------------   \n",
    "    D = T/S #print ('D='+str(D))\n",
    "    s = heval (tdata,r,Tfit,Sfit,cfit,Q)\n",
    "    dev = sdata-s                             #sfit-s \n",
    "    dev2 = dev*dev; res = np.sqrt(sum(dev2)) \n",
    "    stde = np.sqrt(dev2.mean())\n",
    "    sr = 2*dev.std()                            # to compare with hytool !\n",
    "    fig = plt.figure(facecolor='w'); ax = fig.add_subplot()\n",
    "    ax.set_xscale('log')\n",
    "    plt.plot(tdata,sdata,'o',label = 'measured') \n",
    "    t = np.logspace(np.log10(tdata.min()),np.log10(tdata.max()),100)\n",
    "    plt.plot(t,heval(t,r,Tfit,Sfit,cfit,Q),'-', label = 'modelled', lw = 2)\n",
    "    plt.xlabel('t ['+Tunits.value+']'); plt.ylabel('s ['+Lunits.value+']')\n",
    "    plt.title('Pumptest: '+wheader.value+'        Evaluation: Hantush')\n",
    "    ax.grid(b=True, c='w', lw=2, ls='-')\n",
    "    plt.legend ()\n",
    "    ax.annotate ('$T =%.3e %s ^2/ %s $' % (Tfit,Lunits.value,Tunits.value), xy=(.6,.4), xycoords='figure fraction')\n",
    "    ax.annotate ('$S =%.3e $' % (Sfit, ), xy=(.6,.35), xycoords='figure fraction')\n",
    "    ax.annotate ('$c =%.3e %s $' % (cfit,Tunits.value), xy=(.6,.3), xycoords='figure fraction')\n",
    "    ax.annotate ('$res = %.3e $' % (res, ), xy=(.6,.25), xycoords='figure fraction')\n",
    "    ax.annotate ('$stdev =%.3e $' % (stde, ), xy=(.6,.2), xycoords='figure fraction')\n",
    "    ax.annotate ('$2stdev =%.3e $' % (sr, ), xy=(.6,.15), xycoords='figure fraction');\n",
    "    \n",
    "weval2 = widgets.Button(description='Evaluate Hantush')        \n",
    "weval2.on_click(on_weval2_clicked)   \n",
    "widgets.VBox([weval2])"
   ]
  },
  {
   "cell_type": "code",
   "execution_count": null,
   "metadata": {},
   "outputs": [],
   "source": []
  }
 ],
 "metadata": {
  "hide_code_all_hidden": false,
  "hide_input": true,
  "kernelspec": {
   "display_name": "Python 3",
   "language": "python",
   "name": "python3"
  },
  "language_info": {
   "codemirror_mode": {
    "name": "ipython",
    "version": 3
   },
   "file_extension": ".py",
   "mimetype": "text/x-python",
   "name": "python",
   "nbconvert_exporter": "python",
   "pygments_lexer": "ipython3",
   "version": "3.7.6"
  },
  "toc": {
   "base_numbering": 1,
   "nav_menu": {},
   "number_sections": true,
   "sideBar": true,
   "skip_h1_title": false,
   "title_cell": "Table of Contents",
   "title_sidebar": "Contents",
   "toc_cell": true,
   "toc_position": {},
   "toc_section_display": true,
   "toc_window_display": true
  },
  "varInspector": {
   "cols": {
    "lenName": 16,
    "lenType": 16,
    "lenVar": 40
   },
   "kernels_config": {
    "python": {
     "delete_cmd_postfix": "",
     "delete_cmd_prefix": "del ",
     "library": "var_list.py",
     "varRefreshCmd": "print(var_dic_list())"
    },
    "r": {
     "delete_cmd_postfix": ") ",
     "delete_cmd_prefix": "rm(",
     "library": "var_list.r",
     "varRefreshCmd": "cat(var_dic_list()) "
    }
   },
   "position": {
    "height": "461.85px",
    "left": "660px",
    "right": "20px",
    "top": "187px",
    "width": "626px"
   },
   "types_to_exclude": [
    "module",
    "function",
    "builtin_function_or_method",
    "instance",
    "_Feature"
   ],
   "window_display": false
  }
 },
 "nbformat": 4,
 "nbformat_minor": 4
}
