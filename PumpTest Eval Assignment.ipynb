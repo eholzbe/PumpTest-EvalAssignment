{
 "cells": [
  {
   "cell_type": "markdown",
   "metadata": {
    "hideCode": false,
    "hidePrompt": false
   },
   "source": [
    "<font size = 6px, style=\"color:blue\">**Pumping Test Evaluation Assignment**</font>\n",
    "\n",
    "<font size = 4px> fitting to Theis and Hantush solutions</font>\n",
    "\n",
    "*Prof. habil. Dr.-Ing. Dipl.-Math. Ekkehard Holzbecher*"
   ]
  },
  {
   "cell_type": "markdown",
   "metadata": {
    "hideCode": false,
    "hidePrompt": false
   },
   "source": [
    "**Brief instruction for non-Pythonists**: The notebook is build of cells that can be read and viewed, but also edited and run. There are different types of cells (see dropdown list at the top ribbon). It is recommended not to edit if you don't know what you are doing! Only those cells indicated as code have to be run (use button at top ribbon). It is convenient to run all cells at start (button: *restart the kernel and re-run the whole notebook*) and to *toggle everything* (button). To re-run a single cell use the *Run* button or press *Shift-Return* keys together."
   ]
  },
  {
   "cell_type": "markdown",
   "metadata": {
    "hideCode": false,
    "hidePrompt": false,
    "toc": true
   },
   "source": [
    "<h1>Table of Contents<span class=\"tocSkip\"></span></h1>\n",
    "<div class=\"toc\"><ul class=\"toc-item\"><li><span><a href=\"#Pump-Test\" data-toc-modified-id=\"Pump-Test-1\"><span class=\"toc-item-num\">1&nbsp;&nbsp;</span>Pump Test</a></span></li><li><span><a href=\"#Data-Read-and-View\" data-toc-modified-id=\"Data-Read-and-View-2\"><span class=\"toc-item-num\">2&nbsp;&nbsp;</span>Data Read and View</a></span></li><li><span><a href=\"#Evaluation-according-to-Cooper-Jacob\" data-toc-modified-id=\"Evaluation-according-to-Cooper-Jacob-3\"><span class=\"toc-item-num\">3&nbsp;&nbsp;</span>Evaluation according to Cooper-Jacob</a></span></li><li><span><a href=\"#Parameter-Estimation\" data-toc-modified-id=\"Parameter-Estimation-4\"><span class=\"toc-item-num\">4&nbsp;&nbsp;</span>Parameter Estimation</a></span><ul class=\"toc-item\"><li><span><a href=\"#Evaluation-according-to-Theis\" data-toc-modified-id=\"Evaluation-according-to-Theis-4.1\"><span class=\"toc-item-num\">4.1&nbsp;&nbsp;</span>Evaluation according to Theis</a></span></li><li><span><a href=\"#Evaluation-according-to-Hantush\" data-toc-modified-id=\"Evaluation-according-to-Hantush-4.2\"><span class=\"toc-item-num\">4.2&nbsp;&nbsp;</span>Evaluation according to Hantush</a></span></li></ul></li></ul></div>"
   ]
  },
  {
   "cell_type": "markdown",
   "metadata": {
    "hideCode": false,
    "hidePrompt": false
   },
   "source": [
    "# Pump Test "
   ]
  },
  {
   "cell_type": "markdown",
   "metadata": {
    "hideCode": false,
    "hidePrompt": false
   },
   "source": [
    "To start, enter pump test identification! "
   ]
  },
  {
   "cell_type": "code",
   "execution_count": 1,
   "metadata": {
    "hideCode": false,
    "hidePrompt": false,
    "hide_input": false
   },
   "outputs": [
    {
     "data": {
      "application/vnd.jupyter.widget-view+json": {
       "model_id": "57df39f19b1d4638a8994895b4c71898",
       "version_major": 2,
       "version_minor": 0
      },
      "text/plain": [
       "Text(value='ID', description='Pump test')"
      ]
     },
     "metadata": {},
     "output_type": "display_data"
    }
   ],
   "source": [
    "import os\n",
    "import ipywidgets as widgets\n",
    "import pandas as pd\n",
    "import matplotlib.pyplot as plt\n",
    "import numpy as np\n",
    "from pint import UnitRegistry\n",
    "ureg = UnitRegistry()\n",
    "t1 = pd.Series([1.0]); s1 = pd.Series([1.0])   \n",
    "tdata = np.arange(1); sdata = np.arange(1)\n",
    "wheader = widgets.Text(value='ID', description='Pump test', disabled=False)\n",
    "wheader"
   ]
  },
  {
   "cell_type": "markdown",
   "metadata": {
    "hideCode": false,
    "hidePrompt": false
   },
   "source": [
    "The pump test can be evaluated according to the solutions of Theis and Hantush for flow towards a single well with fully penetrating screen in a uniform aquifer of infinite extent having as yet unknown transmissivity $T$ and storativity $S$. In a confined aquifer according to Theis (1952) the solution for drawdown $s$ as function of distance from the pumping well $r$ and time $t$ is given by:"
   ]
  },
  {
   "cell_type": "markdown",
   "metadata": {
    "hideCode": false,
    "hidePrompt": false
   },
   "source": [
    "$$ s(r, t) = \\frac Q {4 \\pi T} W(u),\\,\\,\\,\\, u = \\frac {r^2 S} {4 T t}$$"
   ]
  },
  {
   "cell_type": "markdown",
   "metadata": {
    "hideCode": false,
    "hidePrompt": false
   },
   "source": [
    "$Q$ the pumping rate and $W$ is the well function, also known as exponential integral. The physical unit of transmissivity is area/time. The storativity is dimensionless.   "
   ]
  },
  {
   "cell_type": "markdown",
   "metadata": {
    "hideCode": false,
    "hidePrompt": false
   },
   "source": [
    "For a leaky aquifer the drawdown is given by the Hantush well function $W$, which has two arguments:"
   ]
  },
  {
   "cell_type": "markdown",
   "metadata": {
    "hideCode": false,
    "hidePrompt": false
   },
   "source": [
    "$$ s(r, t) = \\frac Q {4 \\pi T} W(u,r/\\lambda)$$"
   ]
  },
  {
   "cell_type": "markdown",
   "metadata": {
    "hideCode": false,
    "hidePrompt": false
   },
   "source": [
    "with $\\lambda=\\sqrt{T\\cdot c}$ where $c$ denotes the resistance of the over-lying semipermeable layer, which is the third yet unknown parameter. The physcial unit of resistance is time. The equation was derived assuming an overall source (Hantush & Jacob 1955, Hantush 1956). "
   ]
  },
  {
   "cell_type": "markdown",
   "metadata": {
    "hideCode": false,
    "hidePrompt": false
   },
   "source": [
    "The physical units for time and space can be chosen by the modeller. SI units are used as default, i.e. [m] for spatial dimension, and [s] for time. Physical units for parameters in in- and output are derived from these settings. The data in the file can have different time and space dimensions. The read data values have to be converted into the units chosen here.    "
   ]
  },
  {
   "cell_type": "code",
   "execution_count": 2,
   "metadata": {
    "hideCode": false,
    "hidePrompt": false,
    "hide_input": true
   },
   "outputs": [
    {
     "data": {
      "application/vnd.jupyter.widget-view+json": {
       "model_id": "fd3ea89794994cc8af54388b49672f1b",
       "version_major": 2,
       "version_minor": 0
      },
      "text/plain": [
       "Dropdown(description='length unit', index=3, options=('mm', 'cm', 'dm', 'm'), value='m')"
      ]
     },
     "metadata": {},
     "output_type": "display_data"
    },
    {
     "data": {
      "application/vnd.jupyter.widget-view+json": {
       "model_id": "56470e44530b4a32a23b72bb2304b4f0",
       "version_major": 2,
       "version_minor": 0
      },
      "text/plain": [
       "Dropdown(description='time unit', options=('s', 'min', 'hour', 'd'), value='s')"
      ]
     },
     "metadata": {},
     "output_type": "display_data"
    }
   ],
   "source": [
    "Lunits = widgets.Dropdown(\n",
    "    options=['mm','cm','dm','m'], value='m', description = \"length unit\"\n",
    ")\n",
    "Tunits = widgets.Dropdown(\n",
    "    options=['s','min','hour','d'], value='s', description = \"time unit\"\n",
    ")\n",
    "\n",
    "def dropdown_eventhandler(change):\n",
    "    pass\n",
    "\n",
    "Lunits.observe(dropdown_eventhandler, names='value')\n",
    "Tunits.observe(dropdown_eventhandler, names='value')\n",
    "display(Lunits)\n",
    "display(Tunits)"
   ]
  },
  {
   "cell_type": "markdown",
   "metadata": {
    "hideCode": false,
    "hidePrompt": false,
    "hide_input": true
   },
   "source": [
    "Enter distance between pumping well and observation point! Use the dot for decimals."
   ]
  },
  {
   "cell_type": "code",
   "execution_count": 3,
   "metadata": {
    "hideCode": false,
    "hidePrompt": false,
    "hide_input": false
   },
   "outputs": [
    {
     "data": {
      "application/vnd.jupyter.widget-view+json": {
       "model_id": "42c38407a48a46149a1601d2f6de5df3",
       "version_major": 2,
       "version_minor": 0
      },
      "text/plain": [
       "BoundedFloatText(value=29.0, description='Distance:', max=1000.0)"
      ]
     },
     "metadata": {},
     "output_type": "display_data"
    }
   ],
   "source": [
    "# The value for the Fetter test is 251 m. The exact value for the Walton test is 29.26 m\n",
    "wr = widgets.BoundedFloatText(value=29.0, min=0, max=1000.0, description='Distance:', disabled=False)\n",
    "wr"
   ]
  },
  {
   "cell_type": "markdown",
   "metadata": {
    "hideCode": false,
    "hidePrompt": false
   },
   "source": [
    "Enter the pumping rate using length and time units as specified above."
   ]
  },
  {
   "cell_type": "code",
   "execution_count": 4,
   "metadata": {
    "hideCode": false,
    "hidePrompt": false,
    "hide_input": true
   },
   "outputs": [
    {
     "data": {
      "application/vnd.jupyter.widget-view+json": {
       "model_id": "ab2a6e59b18e4a04809223584d81945a",
       "version_major": 2,
       "version_minor": 0
      },
      "text/plain": [
       "BoundedFloatText(value=0.001577, description='Pumprate:', max=10000.0)"
      ]
     },
     "metadata": {},
     "output_type": "display_data"
    }
   ],
   "source": [
    "wQ = widgets.BoundedFloatText(value=0.00889, min=0, max=10000.0, description='Pumprate:', disabled=False)\n",
    "#wQ = widgets.BoundedFloatText(value=0.001577, min=0, max=10000.0, description='Pumprate:', disabled=False)\n",
    "wQ"
   ]
  },
  {
   "cell_type": "markdown",
   "metadata": {
    "hideCode": false,
    "hidePrompt": false
   },
   "source": [
    "# Data Read and View"
   ]
  },
  {
   "cell_type": "markdown",
   "metadata": {
    "hideCode": false,
    "hidePrompt": false,
    "hide_input": true
   },
   "source": [
    "Pumptest data, time instants and observed drawdowns, are read usually from file or from clipboard. Here they are specified within the program.  \n",
    "\n",
    "The physical units of read data can be different from the ones used in the evaluation. Here length data are in SI units, time data in seconds!"
   ]
  },
  {
   "cell_type": "code",
   "execution_count": 5,
   "metadata": {
    "hideCode": false,
    "hidePrompt": false,
    "hide_input": true
   },
   "outputs": [
    {
     "data": {
      "application/vnd.jupyter.widget-view+json": {
       "model_id": "7093f4b976a849a2aab2349a4cea18e4",
       "version_major": 2,
       "version_minor": 0
      },
      "text/plain": [
       "Dropdown(description='data length unit', index=3, options=('mm', 'cm', 'dm', 'm'), value='m')"
      ]
     },
     "metadata": {},
     "output_type": "display_data"
    },
    {
     "data": {
      "application/vnd.jupyter.widget-view+json": {
       "model_id": "29179cbe74534dd8a26378b6278685e9",
       "version_major": 2,
       "version_minor": 0
      },
      "text/plain": [
       "Dropdown(description='data time unit', options=('s', 'min', 'hour', 'd'), value='s')"
      ]
     },
     "metadata": {},
     "output_type": "display_data"
    }
   ],
   "source": [
    "dataLunits = widgets.Dropdown(\n",
    "    options=['mm','cm','dm','m'], value='m', description = \"data length unit\", disabled=False\n",
    ")\n",
    "dataTunits = widgets.Dropdown(\n",
    "    options=['s','min','hour','d'], value='s', description = \"data time unit\", disabled=False\n",
    ")\n",
    "\n",
    "def dropdown_eventhandler(change):\n",
    "    pass\n",
    "\n",
    "dataLunits.observe(dropdown_eventhandler, names='value')\n",
    "dataTunits.observe(dropdown_eventhandler, names='value')\n",
    "display(dataLunits)\n",
    "display(dataTunits)"
   ]
  },
  {
   "cell_type": "code",
   "execution_count": 6,
   "metadata": {
    "hideCode": false,
    "hidePrompt": false,
    "hide_input": false,
    "scrolled": true
   },
   "outputs": [
    {
     "data": {
      "application/vnd.jupyter.widget-view+json": {
       "model_id": "de6b7f7edd0740a89ed54c3ab0985031",
       "version_major": 2,
       "version_minor": 0
      },
      "text/plain": [
       "VBox(children=(Button(description='Convert data', style=ButtonStyle()),))"
      ]
     },
     "metadata": {},
     "output_type": "display_data"
    },
    {
     "name": "stdout",
     "output_type": "stream",
     "text": [
      "Data ready\n"
     ]
    }
   ],
   "source": [
    "tdata = np.arange(1); sdata = np.arange(1)\n",
    "\n",
    "def on_weval0_clicked(self):\n",
    "    global sdata,tdata\n",
    "    # Fetter, 3rd ed., page 223\n",
    "    t1 = np.array ([180,300,480,720,1200,1440,1800,2280,2820,3000,3600,4200,4800,5400,\n",
    "            6000,7800,9600,12000,15600,19200,22800,30000])                # time in seconds\n",
    "    #t1 = t1/60;\n",
    "    s1 = np.array ([0.09144,0.21336,0.39624,0.64008,0.97536,1.09728,1.24968,1.43256,1.55448,\n",
    "               1.61544,1.73736,1.85928,1.92024,2.04216,2.1336,2.286,2.52984,2.5908,2.80416,\n",
    "               2.95656,3.10896,3.32232])                                  # drawdown in m\n",
    "    # Fetter, 3rd ed., page 231 (Walton 1960)\n",
    "    #t1 = np.array ([5,28,41,60,75,244,493,669,958,1129,1185])             # time in minutes\n",
    "    #s1 = np.array ([0.76,3.3,3.59,4.08,4.39,5.47, 5.96,6.11,6.27,6.4,6.42]) # drawdown in ft\n",
    "    #s1 = s1/3.281;   # error: * \n",
    "    \n",
    "    tdatau = t1 * ureg(dataTunits.value); sdatau = s1 * ureg(dataLunits.value)\n",
    "    tdata = tdatau.to(Tunits.value).magnitude; sdata = sdatau.to(Lunits.value).magnitude\n",
    "    print ('Data ready')\n",
    "   \n",
    "weval0 = widgets.Button(description='Convert data')        \n",
    "weval0.on_click(on_weval0_clicked)   \n",
    "widgets.VBox([weval0]) "
   ]
  },
  {
   "cell_type": "markdown",
   "metadata": {
    "hideCode": false,
    "hidePrompt": false
   },
   "source": [
    "Plot data in real scale, time log scale, double log scale and double log! Click the cotresponding buttons!"
   ]
  },
  {
   "cell_type": "code",
   "execution_count": 7,
   "metadata": {
    "hideCode": false,
    "hidePrompt": false,
    "hide_input": false,
    "scrolled": false
   },
   "outputs": [
    {
     "data": {
      "application/vnd.jupyter.widget-view+json": {
       "model_id": "c7e4bc45d75643a3b98f1e57ec03b083",
       "version_major": 2,
       "version_minor": 0
      },
      "text/plain": [
       "VBox(children=(Button(description='Plot data', style=ButtonStyle()),))"
      ]
     },
     "metadata": {},
     "output_type": "display_data"
    },
    {
     "data": {
      "application/javascript": [
       "/* Put everything inside the global mpl namespace */\n",
       "window.mpl = {};\n",
       "\n",
       "\n",
       "mpl.get_websocket_type = function() {\n",
       "    if (typeof(WebSocket) !== 'undefined') {\n",
       "        return WebSocket;\n",
       "    } else if (typeof(MozWebSocket) !== 'undefined') {\n",
       "        return MozWebSocket;\n",
       "    } else {\n",
       "        alert('Your browser does not have WebSocket support. ' +\n",
       "              'Please try Chrome, Safari or Firefox ≥ 6. ' +\n",
       "              'Firefox 4 and 5 are also supported but you ' +\n",
       "              'have to enable WebSockets in about:config.');\n",
       "    };\n",
       "}\n",
       "\n",
       "mpl.figure = function(figure_id, websocket, ondownload, parent_element) {\n",
       "    this.id = figure_id;\n",
       "\n",
       "    this.ws = websocket;\n",
       "\n",
       "    this.supports_binary = (this.ws.binaryType != undefined);\n",
       "\n",
       "    if (!this.supports_binary) {\n",
       "        var warnings = document.getElementById(\"mpl-warnings\");\n",
       "        if (warnings) {\n",
       "            warnings.style.display = 'block';\n",
       "            warnings.textContent = (\n",
       "                \"This browser does not support binary websocket messages. \" +\n",
       "                    \"Performance may be slow.\");\n",
       "        }\n",
       "    }\n",
       "\n",
       "    this.imageObj = new Image();\n",
       "\n",
       "    this.context = undefined;\n",
       "    this.message = undefined;\n",
       "    this.canvas = undefined;\n",
       "    this.rubberband_canvas = undefined;\n",
       "    this.rubberband_context = undefined;\n",
       "    this.format_dropdown = undefined;\n",
       "\n",
       "    this.image_mode = 'full';\n",
       "\n",
       "    this.root = $('<div/>');\n",
       "    this._root_extra_style(this.root)\n",
       "    this.root.attr('style', 'display: inline-block');\n",
       "\n",
       "    $(parent_element).append(this.root);\n",
       "\n",
       "    this._init_header(this);\n",
       "    this._init_canvas(this);\n",
       "    this._init_toolbar(this);\n",
       "\n",
       "    var fig = this;\n",
       "\n",
       "    this.waiting = false;\n",
       "\n",
       "    this.ws.onopen =  function () {\n",
       "            fig.send_message(\"supports_binary\", {value: fig.supports_binary});\n",
       "            fig.send_message(\"send_image_mode\", {});\n",
       "            if (mpl.ratio != 1) {\n",
       "                fig.send_message(\"set_dpi_ratio\", {'dpi_ratio': mpl.ratio});\n",
       "            }\n",
       "            fig.send_message(\"refresh\", {});\n",
       "        }\n",
       "\n",
       "    this.imageObj.onload = function() {\n",
       "            if (fig.image_mode == 'full') {\n",
       "                // Full images could contain transparency (where diff images\n",
       "                // almost always do), so we need to clear the canvas so that\n",
       "                // there is no ghosting.\n",
       "                fig.context.clearRect(0, 0, fig.canvas.width, fig.canvas.height);\n",
       "            }\n",
       "            fig.context.drawImage(fig.imageObj, 0, 0);\n",
       "        };\n",
       "\n",
       "    this.imageObj.onunload = function() {\n",
       "        fig.ws.close();\n",
       "    }\n",
       "\n",
       "    this.ws.onmessage = this._make_on_message_function(this);\n",
       "\n",
       "    this.ondownload = ondownload;\n",
       "}\n",
       "\n",
       "mpl.figure.prototype._init_header = function() {\n",
       "    var titlebar = $(\n",
       "        '<div class=\"ui-dialog-titlebar ui-widget-header ui-corner-all ' +\n",
       "        'ui-helper-clearfix\"/>');\n",
       "    var titletext = $(\n",
       "        '<div class=\"ui-dialog-title\" style=\"width: 100%; ' +\n",
       "        'text-align: center; padding: 3px;\"/>');\n",
       "    titlebar.append(titletext)\n",
       "    this.root.append(titlebar);\n",
       "    this.header = titletext[0];\n",
       "}\n",
       "\n",
       "\n",
       "\n",
       "mpl.figure.prototype._canvas_extra_style = function(canvas_div) {\n",
       "\n",
       "}\n",
       "\n",
       "\n",
       "mpl.figure.prototype._root_extra_style = function(canvas_div) {\n",
       "\n",
       "}\n",
       "\n",
       "mpl.figure.prototype._init_canvas = function() {\n",
       "    var fig = this;\n",
       "\n",
       "    var canvas_div = $('<div/>');\n",
       "\n",
       "    canvas_div.attr('style', 'position: relative; clear: both; outline: 0');\n",
       "\n",
       "    function canvas_keyboard_event(event) {\n",
       "        return fig.key_event(event, event['data']);\n",
       "    }\n",
       "\n",
       "    canvas_div.keydown('key_press', canvas_keyboard_event);\n",
       "    canvas_div.keyup('key_release', canvas_keyboard_event);\n",
       "    this.canvas_div = canvas_div\n",
       "    this._canvas_extra_style(canvas_div)\n",
       "    this.root.append(canvas_div);\n",
       "\n",
       "    var canvas = $('<canvas/>');\n",
       "    canvas.addClass('mpl-canvas');\n",
       "    canvas.attr('style', \"left: 0; top: 0; z-index: 0; outline: 0\")\n",
       "\n",
       "    this.canvas = canvas[0];\n",
       "    this.context = canvas[0].getContext(\"2d\");\n",
       "\n",
       "    var backingStore = this.context.backingStorePixelRatio ||\n",
       "\tthis.context.webkitBackingStorePixelRatio ||\n",
       "\tthis.context.mozBackingStorePixelRatio ||\n",
       "\tthis.context.msBackingStorePixelRatio ||\n",
       "\tthis.context.oBackingStorePixelRatio ||\n",
       "\tthis.context.backingStorePixelRatio || 1;\n",
       "\n",
       "    mpl.ratio = (window.devicePixelRatio || 1) / backingStore;\n",
       "\n",
       "    var rubberband = $('<canvas/>');\n",
       "    rubberband.attr('style', \"position: absolute; left: 0; top: 0; z-index: 1;\")\n",
       "\n",
       "    var pass_mouse_events = true;\n",
       "\n",
       "    canvas_div.resizable({\n",
       "        start: function(event, ui) {\n",
       "            pass_mouse_events = false;\n",
       "        },\n",
       "        resize: function(event, ui) {\n",
       "            fig.request_resize(ui.size.width, ui.size.height);\n",
       "        },\n",
       "        stop: function(event, ui) {\n",
       "            pass_mouse_events = true;\n",
       "            fig.request_resize(ui.size.width, ui.size.height);\n",
       "        },\n",
       "    });\n",
       "\n",
       "    function mouse_event_fn(event) {\n",
       "        if (pass_mouse_events)\n",
       "            return fig.mouse_event(event, event['data']);\n",
       "    }\n",
       "\n",
       "    rubberband.mousedown('button_press', mouse_event_fn);\n",
       "    rubberband.mouseup('button_release', mouse_event_fn);\n",
       "    // Throttle sequential mouse events to 1 every 20ms.\n",
       "    rubberband.mousemove('motion_notify', mouse_event_fn);\n",
       "\n",
       "    rubberband.mouseenter('figure_enter', mouse_event_fn);\n",
       "    rubberband.mouseleave('figure_leave', mouse_event_fn);\n",
       "\n",
       "    canvas_div.on(\"wheel\", function (event) {\n",
       "        event = event.originalEvent;\n",
       "        event['data'] = 'scroll'\n",
       "        if (event.deltaY < 0) {\n",
       "            event.step = 1;\n",
       "        } else {\n",
       "            event.step = -1;\n",
       "        }\n",
       "        mouse_event_fn(event);\n",
       "    });\n",
       "\n",
       "    canvas_div.append(canvas);\n",
       "    canvas_div.append(rubberband);\n",
       "\n",
       "    this.rubberband = rubberband;\n",
       "    this.rubberband_canvas = rubberband[0];\n",
       "    this.rubberband_context = rubberband[0].getContext(\"2d\");\n",
       "    this.rubberband_context.strokeStyle = \"#000000\";\n",
       "\n",
       "    this._resize_canvas = function(width, height) {\n",
       "        // Keep the size of the canvas, canvas container, and rubber band\n",
       "        // canvas in synch.\n",
       "        canvas_div.css('width', width)\n",
       "        canvas_div.css('height', height)\n",
       "\n",
       "        canvas.attr('width', width * mpl.ratio);\n",
       "        canvas.attr('height', height * mpl.ratio);\n",
       "        canvas.attr('style', 'width: ' + width + 'px; height: ' + height + 'px;');\n",
       "\n",
       "        rubberband.attr('width', width);\n",
       "        rubberband.attr('height', height);\n",
       "    }\n",
       "\n",
       "    // Set the figure to an initial 600x600px, this will subsequently be updated\n",
       "    // upon first draw.\n",
       "    this._resize_canvas(600, 600);\n",
       "\n",
       "    // Disable right mouse context menu.\n",
       "    $(this.rubberband_canvas).bind(\"contextmenu\",function(e){\n",
       "        return false;\n",
       "    });\n",
       "\n",
       "    function set_focus () {\n",
       "        canvas.focus();\n",
       "        canvas_div.focus();\n",
       "    }\n",
       "\n",
       "    window.setTimeout(set_focus, 100);\n",
       "}\n",
       "\n",
       "mpl.figure.prototype._init_toolbar = function() {\n",
       "    var fig = this;\n",
       "\n",
       "    var nav_element = $('<div/>');\n",
       "    nav_element.attr('style', 'width: 100%');\n",
       "    this.root.append(nav_element);\n",
       "\n",
       "    // Define a callback function for later on.\n",
       "    function toolbar_event(event) {\n",
       "        return fig.toolbar_button_onclick(event['data']);\n",
       "    }\n",
       "    function toolbar_mouse_event(event) {\n",
       "        return fig.toolbar_button_onmouseover(event['data']);\n",
       "    }\n",
       "\n",
       "    for(var toolbar_ind in mpl.toolbar_items) {\n",
       "        var name = mpl.toolbar_items[toolbar_ind][0];\n",
       "        var tooltip = mpl.toolbar_items[toolbar_ind][1];\n",
       "        var image = mpl.toolbar_items[toolbar_ind][2];\n",
       "        var method_name = mpl.toolbar_items[toolbar_ind][3];\n",
       "\n",
       "        if (!name) {\n",
       "            // put a spacer in here.\n",
       "            continue;\n",
       "        }\n",
       "        var button = $('<button/>');\n",
       "        button.addClass('ui-button ui-widget ui-state-default ui-corner-all ' +\n",
       "                        'ui-button-icon-only');\n",
       "        button.attr('role', 'button');\n",
       "        button.attr('aria-disabled', 'false');\n",
       "        button.click(method_name, toolbar_event);\n",
       "        button.mouseover(tooltip, toolbar_mouse_event);\n",
       "\n",
       "        var icon_img = $('<span/>');\n",
       "        icon_img.addClass('ui-button-icon-primary ui-icon');\n",
       "        icon_img.addClass(image);\n",
       "        icon_img.addClass('ui-corner-all');\n",
       "\n",
       "        var tooltip_span = $('<span/>');\n",
       "        tooltip_span.addClass('ui-button-text');\n",
       "        tooltip_span.html(tooltip);\n",
       "\n",
       "        button.append(icon_img);\n",
       "        button.append(tooltip_span);\n",
       "\n",
       "        nav_element.append(button);\n",
       "    }\n",
       "\n",
       "    var fmt_picker_span = $('<span/>');\n",
       "\n",
       "    var fmt_picker = $('<select/>');\n",
       "    fmt_picker.addClass('mpl-toolbar-option ui-widget ui-widget-content');\n",
       "    fmt_picker_span.append(fmt_picker);\n",
       "    nav_element.append(fmt_picker_span);\n",
       "    this.format_dropdown = fmt_picker[0];\n",
       "\n",
       "    for (var ind in mpl.extensions) {\n",
       "        var fmt = mpl.extensions[ind];\n",
       "        var option = $(\n",
       "            '<option/>', {selected: fmt === mpl.default_extension}).html(fmt);\n",
       "        fmt_picker.append(option);\n",
       "    }\n",
       "\n",
       "    // Add hover states to the ui-buttons\n",
       "    $( \".ui-button\" ).hover(\n",
       "        function() { $(this).addClass(\"ui-state-hover\");},\n",
       "        function() { $(this).removeClass(\"ui-state-hover\");}\n",
       "    );\n",
       "\n",
       "    var status_bar = $('<span class=\"mpl-message\"/>');\n",
       "    nav_element.append(status_bar);\n",
       "    this.message = status_bar[0];\n",
       "}\n",
       "\n",
       "mpl.figure.prototype.request_resize = function(x_pixels, y_pixels) {\n",
       "    // Request matplotlib to resize the figure. Matplotlib will then trigger a resize in the client,\n",
       "    // which will in turn request a refresh of the image.\n",
       "    this.send_message('resize', {'width': x_pixels, 'height': y_pixels});\n",
       "}\n",
       "\n",
       "mpl.figure.prototype.send_message = function(type, properties) {\n",
       "    properties['type'] = type;\n",
       "    properties['figure_id'] = this.id;\n",
       "    this.ws.send(JSON.stringify(properties));\n",
       "}\n",
       "\n",
       "mpl.figure.prototype.send_draw_message = function() {\n",
       "    if (!this.waiting) {\n",
       "        this.waiting = true;\n",
       "        this.ws.send(JSON.stringify({type: \"draw\", figure_id: this.id}));\n",
       "    }\n",
       "}\n",
       "\n",
       "\n",
       "mpl.figure.prototype.handle_save = function(fig, msg) {\n",
       "    var format_dropdown = fig.format_dropdown;\n",
       "    var format = format_dropdown.options[format_dropdown.selectedIndex].value;\n",
       "    fig.ondownload(fig, format);\n",
       "}\n",
       "\n",
       "\n",
       "mpl.figure.prototype.handle_resize = function(fig, msg) {\n",
       "    var size = msg['size'];\n",
       "    if (size[0] != fig.canvas.width || size[1] != fig.canvas.height) {\n",
       "        fig._resize_canvas(size[0], size[1]);\n",
       "        fig.send_message(\"refresh\", {});\n",
       "    };\n",
       "}\n",
       "\n",
       "mpl.figure.prototype.handle_rubberband = function(fig, msg) {\n",
       "    var x0 = msg['x0'] / mpl.ratio;\n",
       "    var y0 = (fig.canvas.height - msg['y0']) / mpl.ratio;\n",
       "    var x1 = msg['x1'] / mpl.ratio;\n",
       "    var y1 = (fig.canvas.height - msg['y1']) / mpl.ratio;\n",
       "    x0 = Math.floor(x0) + 0.5;\n",
       "    y0 = Math.floor(y0) + 0.5;\n",
       "    x1 = Math.floor(x1) + 0.5;\n",
       "    y1 = Math.floor(y1) + 0.5;\n",
       "    var min_x = Math.min(x0, x1);\n",
       "    var min_y = Math.min(y0, y1);\n",
       "    var width = Math.abs(x1 - x0);\n",
       "    var height = Math.abs(y1 - y0);\n",
       "\n",
       "    fig.rubberband_context.clearRect(\n",
       "        0, 0, fig.canvas.width / mpl.ratio, fig.canvas.height / mpl.ratio);\n",
       "\n",
       "    fig.rubberband_context.strokeRect(min_x, min_y, width, height);\n",
       "}\n",
       "\n",
       "mpl.figure.prototype.handle_figure_label = function(fig, msg) {\n",
       "    // Updates the figure title.\n",
       "    fig.header.textContent = msg['label'];\n",
       "}\n",
       "\n",
       "mpl.figure.prototype.handle_cursor = function(fig, msg) {\n",
       "    var cursor = msg['cursor'];\n",
       "    switch(cursor)\n",
       "    {\n",
       "    case 0:\n",
       "        cursor = 'pointer';\n",
       "        break;\n",
       "    case 1:\n",
       "        cursor = 'default';\n",
       "        break;\n",
       "    case 2:\n",
       "        cursor = 'crosshair';\n",
       "        break;\n",
       "    case 3:\n",
       "        cursor = 'move';\n",
       "        break;\n",
       "    }\n",
       "    fig.rubberband_canvas.style.cursor = cursor;\n",
       "}\n",
       "\n",
       "mpl.figure.prototype.handle_message = function(fig, msg) {\n",
       "    fig.message.textContent = msg['message'];\n",
       "}\n",
       "\n",
       "mpl.figure.prototype.handle_draw = function(fig, msg) {\n",
       "    // Request the server to send over a new figure.\n",
       "    fig.send_draw_message();\n",
       "}\n",
       "\n",
       "mpl.figure.prototype.handle_image_mode = function(fig, msg) {\n",
       "    fig.image_mode = msg['mode'];\n",
       "}\n",
       "\n",
       "mpl.figure.prototype.updated_canvas_event = function() {\n",
       "    // Called whenever the canvas gets updated.\n",
       "    this.send_message(\"ack\", {});\n",
       "}\n",
       "\n",
       "// A function to construct a web socket function for onmessage handling.\n",
       "// Called in the figure constructor.\n",
       "mpl.figure.prototype._make_on_message_function = function(fig) {\n",
       "    return function socket_on_message(evt) {\n",
       "        if (evt.data instanceof Blob) {\n",
       "            /* FIXME: We get \"Resource interpreted as Image but\n",
       "             * transferred with MIME type text/plain:\" errors on\n",
       "             * Chrome.  But how to set the MIME type?  It doesn't seem\n",
       "             * to be part of the websocket stream */\n",
       "            evt.data.type = \"image/png\";\n",
       "\n",
       "            /* Free the memory for the previous frames */\n",
       "            if (fig.imageObj.src) {\n",
       "                (window.URL || window.webkitURL).revokeObjectURL(\n",
       "                    fig.imageObj.src);\n",
       "            }\n",
       "\n",
       "            fig.imageObj.src = (window.URL || window.webkitURL).createObjectURL(\n",
       "                evt.data);\n",
       "            fig.updated_canvas_event();\n",
       "            fig.waiting = false;\n",
       "            return;\n",
       "        }\n",
       "        else if (typeof evt.data === 'string' && evt.data.slice(0, 21) == \"data:image/png;base64\") {\n",
       "            fig.imageObj.src = evt.data;\n",
       "            fig.updated_canvas_event();\n",
       "            fig.waiting = false;\n",
       "            return;\n",
       "        }\n",
       "\n",
       "        var msg = JSON.parse(evt.data);\n",
       "        var msg_type = msg['type'];\n",
       "\n",
       "        // Call the  \"handle_{type}\" callback, which takes\n",
       "        // the figure and JSON message as its only arguments.\n",
       "        try {\n",
       "            var callback = fig[\"handle_\" + msg_type];\n",
       "        } catch (e) {\n",
       "            console.log(\"No handler for the '\" + msg_type + \"' message type: \", msg);\n",
       "            return;\n",
       "        }\n",
       "\n",
       "        if (callback) {\n",
       "            try {\n",
       "                // console.log(\"Handling '\" + msg_type + \"' message: \", msg);\n",
       "                callback(fig, msg);\n",
       "            } catch (e) {\n",
       "                console.log(\"Exception inside the 'handler_\" + msg_type + \"' callback:\", e, e.stack, msg);\n",
       "            }\n",
       "        }\n",
       "    };\n",
       "}\n",
       "\n",
       "// from http://stackoverflow.com/questions/1114465/getting-mouse-location-in-canvas\n",
       "mpl.findpos = function(e) {\n",
       "    //this section is from http://www.quirksmode.org/js/events_properties.html\n",
       "    var targ;\n",
       "    if (!e)\n",
       "        e = window.event;\n",
       "    if (e.target)\n",
       "        targ = e.target;\n",
       "    else if (e.srcElement)\n",
       "        targ = e.srcElement;\n",
       "    if (targ.nodeType == 3) // defeat Safari bug\n",
       "        targ = targ.parentNode;\n",
       "\n",
       "    // jQuery normalizes the pageX and pageY\n",
       "    // pageX,Y are the mouse positions relative to the document\n",
       "    // offset() returns the position of the element relative to the document\n",
       "    var x = e.pageX - $(targ).offset().left;\n",
       "    var y = e.pageY - $(targ).offset().top;\n",
       "\n",
       "    return {\"x\": x, \"y\": y};\n",
       "};\n",
       "\n",
       "/*\n",
       " * return a copy of an object with only non-object keys\n",
       " * we need this to avoid circular references\n",
       " * http://stackoverflow.com/a/24161582/3208463\n",
       " */\n",
       "function simpleKeys (original) {\n",
       "  return Object.keys(original).reduce(function (obj, key) {\n",
       "    if (typeof original[key] !== 'object')\n",
       "        obj[key] = original[key]\n",
       "    return obj;\n",
       "  }, {});\n",
       "}\n",
       "\n",
       "mpl.figure.prototype.mouse_event = function(event, name) {\n",
       "    var canvas_pos = mpl.findpos(event)\n",
       "\n",
       "    if (name === 'button_press')\n",
       "    {\n",
       "        this.canvas.focus();\n",
       "        this.canvas_div.focus();\n",
       "    }\n",
       "\n",
       "    var x = canvas_pos.x * mpl.ratio;\n",
       "    var y = canvas_pos.y * mpl.ratio;\n",
       "\n",
       "    this.send_message(name, {x: x, y: y, button: event.button,\n",
       "                             step: event.step,\n",
       "                             guiEvent: simpleKeys(event)});\n",
       "\n",
       "    /* This prevents the web browser from automatically changing to\n",
       "     * the text insertion cursor when the button is pressed.  We want\n",
       "     * to control all of the cursor setting manually through the\n",
       "     * 'cursor' event from matplotlib */\n",
       "    event.preventDefault();\n",
       "    return false;\n",
       "}\n",
       "\n",
       "mpl.figure.prototype._key_event_extra = function(event, name) {\n",
       "    // Handle any extra behaviour associated with a key event\n",
       "}\n",
       "\n",
       "mpl.figure.prototype.key_event = function(event, name) {\n",
       "\n",
       "    // Prevent repeat events\n",
       "    if (name == 'key_press')\n",
       "    {\n",
       "        if (event.which === this._key)\n",
       "            return;\n",
       "        else\n",
       "            this._key = event.which;\n",
       "    }\n",
       "    if (name == 'key_release')\n",
       "        this._key = null;\n",
       "\n",
       "    var value = '';\n",
       "    if (event.ctrlKey && event.which != 17)\n",
       "        value += \"ctrl+\";\n",
       "    if (event.altKey && event.which != 18)\n",
       "        value += \"alt+\";\n",
       "    if (event.shiftKey && event.which != 16)\n",
       "        value += \"shift+\";\n",
       "\n",
       "    value += 'k';\n",
       "    value += event.which.toString();\n",
       "\n",
       "    this._key_event_extra(event, name);\n",
       "\n",
       "    this.send_message(name, {key: value,\n",
       "                             guiEvent: simpleKeys(event)});\n",
       "    return false;\n",
       "}\n",
       "\n",
       "mpl.figure.prototype.toolbar_button_onclick = function(name) {\n",
       "    if (name == 'download') {\n",
       "        this.handle_save(this, null);\n",
       "    } else {\n",
       "        this.send_message(\"toolbar_button\", {name: name});\n",
       "    }\n",
       "};\n",
       "\n",
       "mpl.figure.prototype.toolbar_button_onmouseover = function(tooltip) {\n",
       "    this.message.textContent = tooltip;\n",
       "};\n",
       "mpl.toolbar_items = [[\"Home\", \"Reset original view\", \"fa fa-home icon-home\", \"home\"], [\"Back\", \"Back to previous view\", \"fa fa-arrow-left icon-arrow-left\", \"back\"], [\"Forward\", \"Forward to next view\", \"fa fa-arrow-right icon-arrow-right\", \"forward\"], [\"\", \"\", \"\", \"\"], [\"Pan\", \"Pan axes with left mouse, zoom with right\", \"fa fa-arrows icon-move\", \"pan\"], [\"Zoom\", \"Zoom to rectangle\", \"fa fa-square-o icon-check-empty\", \"zoom\"], [\"\", \"\", \"\", \"\"], [\"Download\", \"Download plot\", \"fa fa-floppy-o icon-save\", \"download\"]];\n",
       "\n",
       "mpl.extensions = [\"eps\", \"jpeg\", \"pdf\", \"png\", \"ps\", \"raw\", \"svg\", \"tif\"];\n",
       "\n",
       "mpl.default_extension = \"png\";var comm_websocket_adapter = function(comm) {\n",
       "    // Create a \"websocket\"-like object which calls the given IPython comm\n",
       "    // object with the appropriate methods. Currently this is a non binary\n",
       "    // socket, so there is still some room for performance tuning.\n",
       "    var ws = {};\n",
       "\n",
       "    ws.close = function() {\n",
       "        comm.close()\n",
       "    };\n",
       "    ws.send = function(m) {\n",
       "        //console.log('sending', m);\n",
       "        comm.send(m);\n",
       "    };\n",
       "    // Register the callback with on_msg.\n",
       "    comm.on_msg(function(msg) {\n",
       "        //console.log('receiving', msg['content']['data'], msg);\n",
       "        // Pass the mpl event to the overridden (by mpl) onmessage function.\n",
       "        ws.onmessage(msg['content']['data'])\n",
       "    });\n",
       "    return ws;\n",
       "}\n",
       "\n",
       "mpl.mpl_figure_comm = function(comm, msg) {\n",
       "    // This is the function which gets called when the mpl process\n",
       "    // starts-up an IPython Comm through the \"matplotlib\" channel.\n",
       "\n",
       "    var id = msg.content.data.id;\n",
       "    // Get hold of the div created by the display call when the Comm\n",
       "    // socket was opened in Python.\n",
       "    var element = $(\"#\" + id);\n",
       "    var ws_proxy = comm_websocket_adapter(comm)\n",
       "\n",
       "    function ondownload(figure, format) {\n",
       "        window.open(figure.imageObj.src);\n",
       "    }\n",
       "\n",
       "    var fig = new mpl.figure(id, ws_proxy,\n",
       "                           ondownload,\n",
       "                           element.get(0));\n",
       "\n",
       "    // Call onopen now - mpl needs it, as it is assuming we've passed it a real\n",
       "    // web socket which is closed, not our websocket->open comm proxy.\n",
       "    ws_proxy.onopen();\n",
       "\n",
       "    fig.parent_element = element.get(0);\n",
       "    fig.cell_info = mpl.find_output_cell(\"<div id='\" + id + \"'></div>\");\n",
       "    if (!fig.cell_info) {\n",
       "        console.error(\"Failed to find cell for figure\", id, fig);\n",
       "        return;\n",
       "    }\n",
       "\n",
       "    var output_index = fig.cell_info[2]\n",
       "    var cell = fig.cell_info[0];\n",
       "\n",
       "};\n",
       "\n",
       "mpl.figure.prototype.handle_close = function(fig, msg) {\n",
       "    var width = fig.canvas.width/mpl.ratio\n",
       "    fig.root.unbind('remove')\n",
       "\n",
       "    // Update the output cell to use the data from the current canvas.\n",
       "    fig.push_to_output();\n",
       "    var dataURL = fig.canvas.toDataURL();\n",
       "    // Re-enable the keyboard manager in IPython - without this line, in FF,\n",
       "    // the notebook keyboard shortcuts fail.\n",
       "    IPython.keyboard_manager.enable()\n",
       "    $(fig.parent_element).html('<img src=\"' + dataURL + '\" width=\"' + width + '\">');\n",
       "    fig.close_ws(fig, msg);\n",
       "}\n",
       "\n",
       "mpl.figure.prototype.close_ws = function(fig, msg){\n",
       "    fig.send_message('closing', msg);\n",
       "    // fig.ws.close()\n",
       "}\n",
       "\n",
       "mpl.figure.prototype.push_to_output = function(remove_interactive) {\n",
       "    // Turn the data on the canvas into data in the output cell.\n",
       "    var width = this.canvas.width/mpl.ratio\n",
       "    var dataURL = this.canvas.toDataURL();\n",
       "    this.cell_info[1]['text/html'] = '<img src=\"' + dataURL + '\" width=\"' + width + '\">';\n",
       "}\n",
       "\n",
       "mpl.figure.prototype.updated_canvas_event = function() {\n",
       "    // Tell IPython that the notebook contents must change.\n",
       "    IPython.notebook.set_dirty(true);\n",
       "    this.send_message(\"ack\", {});\n",
       "    var fig = this;\n",
       "    // Wait a second, then push the new image to the DOM so\n",
       "    // that it is saved nicely (might be nice to debounce this).\n",
       "    setTimeout(function () { fig.push_to_output() }, 1000);\n",
       "}\n",
       "\n",
       "mpl.figure.prototype._init_toolbar = function() {\n",
       "    var fig = this;\n",
       "\n",
       "    var nav_element = $('<div/>');\n",
       "    nav_element.attr('style', 'width: 100%');\n",
       "    this.root.append(nav_element);\n",
       "\n",
       "    // Define a callback function for later on.\n",
       "    function toolbar_event(event) {\n",
       "        return fig.toolbar_button_onclick(event['data']);\n",
       "    }\n",
       "    function toolbar_mouse_event(event) {\n",
       "        return fig.toolbar_button_onmouseover(event['data']);\n",
       "    }\n",
       "\n",
       "    for(var toolbar_ind in mpl.toolbar_items){\n",
       "        var name = mpl.toolbar_items[toolbar_ind][0];\n",
       "        var tooltip = mpl.toolbar_items[toolbar_ind][1];\n",
       "        var image = mpl.toolbar_items[toolbar_ind][2];\n",
       "        var method_name = mpl.toolbar_items[toolbar_ind][3];\n",
       "\n",
       "        if (!name) { continue; };\n",
       "\n",
       "        var button = $('<button class=\"btn btn-default\" href=\"#\" title=\"' + name + '\"><i class=\"fa ' + image + ' fa-lg\"></i></button>');\n",
       "        button.click(method_name, toolbar_event);\n",
       "        button.mouseover(tooltip, toolbar_mouse_event);\n",
       "        nav_element.append(button);\n",
       "    }\n",
       "\n",
       "    // Add the status bar.\n",
       "    var status_bar = $('<span class=\"mpl-message\" style=\"text-align:right; float: right;\"/>');\n",
       "    nav_element.append(status_bar);\n",
       "    this.message = status_bar[0];\n",
       "\n",
       "    // Add the close button to the window.\n",
       "    var buttongrp = $('<div class=\"btn-group inline pull-right\"></div>');\n",
       "    var button = $('<button class=\"btn btn-mini btn-primary\" href=\"#\" title=\"Stop Interaction\"><i class=\"fa fa-power-off icon-remove icon-large\"></i></button>');\n",
       "    button.click(function (evt) { fig.handle_close(fig, {}); } );\n",
       "    button.mouseover('Stop Interaction', toolbar_mouse_event);\n",
       "    buttongrp.append(button);\n",
       "    var titlebar = this.root.find($('.ui-dialog-titlebar'));\n",
       "    titlebar.prepend(buttongrp);\n",
       "}\n",
       "\n",
       "mpl.figure.prototype._root_extra_style = function(el){\n",
       "    var fig = this\n",
       "    el.on(\"remove\", function(){\n",
       "\tfig.close_ws(fig, {});\n",
       "    });\n",
       "}\n",
       "\n",
       "mpl.figure.prototype._canvas_extra_style = function(el){\n",
       "    // this is important to make the div 'focusable\n",
       "    el.attr('tabindex', 0)\n",
       "    // reach out to IPython and tell the keyboard manager to turn it's self\n",
       "    // off when our div gets focus\n",
       "\n",
       "    // location in version 3\n",
       "    if (IPython.notebook.keyboard_manager) {\n",
       "        IPython.notebook.keyboard_manager.register_events(el);\n",
       "    }\n",
       "    else {\n",
       "        // location in version 2\n",
       "        IPython.keyboard_manager.register_events(el);\n",
       "    }\n",
       "\n",
       "}\n",
       "\n",
       "mpl.figure.prototype._key_event_extra = function(event, name) {\n",
       "    var manager = IPython.notebook.keyboard_manager;\n",
       "    if (!manager)\n",
       "        manager = IPython.keyboard_manager;\n",
       "\n",
       "    // Check for shift+enter\n",
       "    if (event.shiftKey && event.which == 13) {\n",
       "        this.canvas_div.blur();\n",
       "        // select the cell after this one\n",
       "        var index = IPython.notebook.find_cell_index(this.cell_info[0]);\n",
       "        IPython.notebook.select(index + 1);\n",
       "    }\n",
       "}\n",
       "\n",
       "mpl.figure.prototype.handle_save = function(fig, msg) {\n",
       "    fig.ondownload(fig, null);\n",
       "}\n",
       "\n",
       "\n",
       "mpl.find_output_cell = function(html_output) {\n",
       "    // Return the cell and output element which can be found *uniquely* in the notebook.\n",
       "    // Note - this is a bit hacky, but it is done because the \"notebook_saving.Notebook\"\n",
       "    // IPython event is triggered only after the cells have been serialised, which for\n",
       "    // our purposes (turning an active figure into a static one), is too late.\n",
       "    var cells = IPython.notebook.get_cells();\n",
       "    var ncells = cells.length;\n",
       "    for (var i=0; i<ncells; i++) {\n",
       "        var cell = cells[i];\n",
       "        if (cell.cell_type === 'code'){\n",
       "            for (var j=0; j<cell.output_area.outputs.length; j++) {\n",
       "                var data = cell.output_area.outputs[j];\n",
       "                if (data.data) {\n",
       "                    // IPython >= 3 moved mimebundle to data attribute of output\n",
       "                    data = data.data;\n",
       "                }\n",
       "                if (data['text/html'] == html_output) {\n",
       "                    return [cell, data, j];\n",
       "                }\n",
       "            }\n",
       "        }\n",
       "    }\n",
       "}\n",
       "\n",
       "// Register the function which deals with the matplotlib target/channel.\n",
       "// The kernel may be null if the page has been refreshed.\n",
       "if (IPython.notebook.kernel != null) {\n",
       "    IPython.notebook.kernel.comm_manager.register_target('matplotlib', mpl.mpl_figure_comm);\n",
       "}\n"
      ],
      "text/plain": [
       "<IPython.core.display.Javascript object>"
      ]
     },
     "metadata": {},
     "output_type": "display_data"
    },
    {
     "data": {
      "text/html": [
       "<img src=\"data:image/png;base64,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\" width=\"800\">"
      ],
      "text/plain": [
       "<IPython.core.display.HTML object>"
      ]
     },
     "metadata": {},
     "output_type": "display_data"
    }
   ],
   "source": [
    "%matplotlib notebook\n",
    "%matplotlib notebook\n",
    "plt.rcParams[\"figure.figsize\"] = (8,4) \n",
    "plt.rcParams['axes.facecolor'] = 'lightgray';\n",
    "\n",
    "def on_wp1_clicked(self): \n",
    "    fig = plt.figure(facecolor='w'); ax = plt.gca() \n",
    "    plt.plot (tdata,sdata, '.-', label = 'observation' )\n",
    "    plt.title('Pumptest: '+wheader.value)\n",
    "    plt.xlabel('time ['+Tunits.value+']')\n",
    "    plt.ylabel('drawdown ['+Lunits.value+']')\n",
    "    ax.grid(b=True, c='w', lw=2, ls='-')\n",
    "    plt.legend(loc='center right');\n",
    "    \n",
    "wp1 = widgets.Button(description='Plot data')        \n",
    "wp1.on_click(on_wp1_clicked)   \n",
    "widgets.VBox([wp1])    "
   ]
  },
  {
   "cell_type": "code",
   "execution_count": 8,
   "metadata": {
    "hideCode": false,
    "hidePrompt": false,
    "hide_input": false
   },
   "outputs": [
    {
     "data": {
      "application/vnd.jupyter.widget-view+json": {
       "model_id": "34753c33a7184fe79fecaa6618bb2fa2",
       "version_major": 2,
       "version_minor": 0
      },
      "text/plain": [
       "VBox(children=(Button(description='Plot log scale', style=ButtonStyle()),))"
      ]
     },
     "metadata": {},
     "output_type": "display_data"
    }
   ],
   "source": [
    "%matplotlib notebook\n",
    "%matplotlib notebook\n",
    "plt.rcParams[\"figure.figsize\"] = (8,4) \n",
    "plt.rcParams['axes.facecolor'] = 'lightgray';\n",
    "\n",
    "def on_wp2_clicked(self):\n",
    "    fig = plt.figure(facecolor='w'); ax = fig.add_subplot()\n",
    "    ax.set_xscale('log')\n",
    "    plt.plot (tdata,sdata, '.-', label = 'observation' )\n",
    "    plt.title('Pumptest: '+wheader.value)\n",
    "    plt.xlabel('time ['+dataTunits.value+']')\n",
    "    plt.ylabel('drawdown ['+dataLunits.value+']')\n",
    "    ax.grid(b=True, c='w', lw=2, ls='-')\n",
    "    plt.legend(loc = 'upper left');\n",
    "\n",
    "wp2 = widgets.Button(description='Plot log scale')        \n",
    "wp2.on_click(on_wp2_clicked)   \n",
    "widgets.VBox([wp2]) "
   ]
  },
  {
   "cell_type": "code",
   "execution_count": 9,
   "metadata": {
    "hideCode": false,
    "hidePrompt": false,
    "hide_input": true
   },
   "outputs": [
    {
     "data": {
      "application/vnd.jupyter.widget-view+json": {
       "model_id": "a166c0f918954e3f9ac1b94e9a78d515",
       "version_major": 2,
       "version_minor": 0
      },
      "text/plain": [
       "VBox(children=(Button(description='Plot loglog scale', style=ButtonStyle()),))"
      ]
     },
     "metadata": {},
     "output_type": "display_data"
    }
   ],
   "source": [
    "%matplotlib notebook\n",
    "%matplotlib notebook\n",
    "plt.rcParams[\"figure.figsize\"] = (8,4) \n",
    "plt.rcParams['axes.facecolor'] = 'lightgray';\n",
    "\n",
    "def on_wp3_clicked(self): \n",
    "    fig = plt.figure(facecolor='w'); ax = fig.add_subplot()\n",
    "    ax.set_xscale('log'); ax.set_yscale('log')\n",
    "    plt.plot (tdata,sdata, '.-', label = 'observation' )\n",
    "    plt.title('Pumptest: '+wheader.value)\n",
    "    plt.xlabel('time ['+dataTunits.value+']')\n",
    "    plt.ylabel('drawdown ['+dataLunits.value+']')\n",
    "    ax.grid(b=True, c='w', lw=2, ls='-')\n",
    "    plt.legend(loc = 'lower right');\n",
    "\n",
    "wp3 = widgets.Button(description='Plot loglog scale')        \n",
    "wp3.on_click(on_wp3_clicked)   \n",
    "widgets.VBox([wp3]) "
   ]
  },
  {
   "cell_type": "code",
   "execution_count": 10,
   "metadata": {
    "hideCode": false,
    "hidePrompt": false,
    "hide_input": true
   },
   "outputs": [
    {
     "data": {
      "application/vnd.jupyter.widget-view+json": {
       "model_id": "153db5bc23cb4ea2b3aaa2e7d91ea11d",
       "version_major": 2,
       "version_minor": 0
      },
      "text/plain": [
       "VBox(children=(Button(description='Plot t/r/r scale', style=ButtonStyle()),))"
      ]
     },
     "metadata": {},
     "output_type": "display_data"
    }
   ],
   "source": [
    "%matplotlib notebook\n",
    "%matplotlib notebook\n",
    "plt.rcParams[\"figure.figsize\"] = (8,4) \n",
    "plt.rcParams['axes.facecolor'] = 'lightgray';\n",
    "\n",
    "def on_wp4_clicked(self):\n",
    "    r = wr.value;\n",
    "    fig = plt.figure(facecolor='w'); ax = fig.add_subplot()\n",
    "    ax.set_xscale('log')\n",
    "    plt.plot (tdata/r/r,sdata, '.-', label = 'observation' )\n",
    "    plt.title('Pumptest: '+wheader.value)\n",
    "    plt.xlabel('t/r$^2$ ['+Tunits.value+'/'+Lunits.value+'$^2$]',fontsize=12)\n",
    "    plt.ylabel('drawdown ['+dataLunits.value+']')\n",
    "    ax.grid(b=True, c='w', lw=2, ls='-')\n",
    "    plt.legend(loc = 'upper left');\n",
    "\n",
    "wp4 = widgets.Button(description='Plot t/r/r scale')        \n",
    "wp4.on_click(on_wp4_clicked)   \n",
    "widgets.VBox([wp4]) "
   ]
  },
  {
   "cell_type": "markdown",
   "metadata": {
    "hideCode": false,
    "hidePrompt": false,
    "hide_input": true
   },
   "source": [
    "# Evaluation according to Cooper-Jacob"
   ]
  },
  {
   "cell_type": "markdown",
   "metadata": {
    "hideCode": false,
    "hidePrompt": false,
    "hide_input": true
   },
   "source": [
    "**Task**: Perform the Cooper-Jacob method of evaluation. Enter the values obtained from the last plot and run the  cell below for the evaluation."
   ]
  },
  {
   "cell_type": "code",
   "execution_count": 11,
   "metadata": {
    "hideCode": false,
    "hidePrompt": false,
    "hide_input": false
   },
   "outputs": [
    {
     "data": {
      "application/vnd.jupyter.widget-view+json": {
       "model_id": "d79e56a219ec4f1cbda07bbbda91feed",
       "version_major": 2,
       "version_minor": 0
      },
      "text/plain": [
       "HBox(children=(BoundedFloatText(value=0.3, description='$\\\\Delta S$:', max=10.0), BoundedFloatText(value=0.000…"
      ]
     },
     "metadata": {},
     "output_type": "display_data"
    }
   ],
   "source": [
    "wds = widgets.BoundedFloatText(value=0.3, min=0.0, max=10.0, description='$\\Delta S$:', disabled=False)\n",
    "w0 = widgets.BoundedFloatText(value=2e-4, min=0.0, max=1., description='$(t/r^2)_0$:', disabled=False)\n",
    "widgets.HBox([wds,w0]) "
   ]
  },
  {
   "cell_type": "code",
   "execution_count": 12,
   "metadata": {
    "hideCode": false,
    "hidePrompt": false,
    "hide_input": false
   },
   "outputs": [
    {
     "data": {
      "application/vnd.jupyter.widget-view+json": {
       "model_id": "98276ec64874455ea6b038af41f611d5",
       "version_major": 2,
       "version_minor": 0
      },
      "text/plain": [
       "Button(description='Compute T,S', style=ButtonStyle())"
      ]
     },
     "metadata": {},
     "output_type": "display_data"
    }
   ],
   "source": [
    "btn = widgets.Button(description='Compute T,S')\n",
    "display(btn)\n",
    "\n",
    "def btn_eventhandler(obj):\n",
    "    T = 2.3 * wQ.value / (4 * np.pi * wds.value)\n",
    "    Tu = T * ureg(Lunits.value+'**2/'+Tunits.value); print('T = ', end =\" \");print(Tu)\n",
    "    S = 2.25 * T * w0.value\n",
    "    print('S = {:.2e}'.format(S))\n",
    "    \n",
    "btn.on_click(btn_eventhandler)    "
   ]
  },
  {
   "cell_type": "markdown",
   "metadata": {
    "hideCode": false,
    "hidePrompt": false,
    "hide_input": true
   },
   "source": [
    "# Parameter Estimation"
   ]
  },
  {
   "cell_type": "markdown",
   "metadata": {
    "hideCode": false,
    "hidePrompt": false
   },
   "source": [
    "Enter initial guesses for $T$ and $S$! The physical unit of transmissivity is derived from the length and time settings above. "
   ]
  },
  {
   "cell_type": "code",
   "execution_count": 13,
   "metadata": {
    "hideCode": false,
    "hidePrompt": false,
    "hide_input": true
   },
   "outputs": [
    {
     "data": {
      "application/vnd.jupyter.widget-view+json": {
       "model_id": "0e7ca9bca60a42d4a7a8307fba25f036",
       "version_major": 2,
       "version_minor": 0
      },
      "text/plain": [
       "HBox(children=(FloatText(value=0.005, description='T:'), FloatText(value=0.0001, description='S:')))"
      ]
     },
     "metadata": {},
     "output_type": "display_data"
    }
   ],
   "source": [
    "wT = widgets.FloatText(value=5e-3, description='T:', min=1.e-10, disabled=False)\n",
    "wS = widgets.FloatText(value=1e-4, description='S:', min=1.e-10, disabled=False)\n",
    "widgets.HBox([wT, wS])"
   ]
  },
  {
   "cell_type": "markdown",
   "metadata": {
    "hideCode": false,
    "hidePrompt": false,
    "hide_input": true
   },
   "source": [
    "## Evaluation according to Theis\n",
    "\n",
    "For evaluating the pump test according to the formula of Theis click the button! The well function is computed using the exponential integral from the Python module *scipy.special*. "
   ]
  },
  {
   "cell_type": "code",
   "execution_count": 14,
   "metadata": {
    "hideCode": false,
    "hidePrompt": false,
    "hide_input": false,
    "scrolled": false
   },
   "outputs": [
    {
     "data": {
      "application/vnd.jupyter.widget-view+json": {
       "model_id": "cbe070db7f2e4d92b39456afb2e8da4a",
       "version_major": 2,
       "version_minor": 0
      },
      "text/plain": [
       "VBox(children=(Button(description='Evaluate Theis', style=ButtonStyle()),))"
      ]
     },
     "metadata": {},
     "output_type": "display_data"
    }
   ],
   "source": [
    "from scipy.special import exp1\n",
    "from scipy.optimize import fmin\n",
    "%matplotlib notebook\n",
    "%matplotlib notebook\n",
    "plt.rcParams[\"figure.figsize\"] = (8,4) \n",
    "plt.rcParams['axes.facecolor'] = 'lightgray';\n",
    "\n",
    "def toptim (x):       \n",
    "    T = x[0]; S = x[1]; D = T/S         # calculate Theis solution\n",
    "    u = (((wr.value*wr.value)/4)/D)/tdata\n",
    "    s = wQ.value*exp1(u)/4/np.pi/T\n",
    "    res = (s-sdata)\n",
    "    return sum(res*res)                 # function f to be minimized\n",
    "\n",
    "def on_weval1_clicked(self):            # convert input data\n",
    "    global tdata,sdata\n",
    "    #[tdata,sdata] = uconvert(t1,s1)\n",
    "    #tdata = tdatau.to(Tunits.value).magnitude; sdata = sdatau.to(Lunits.value).magnitude\n",
    "    r = wr.value; ru = r * ureg(Lunits.value); print('Distance between wells: ', end =\" \"); print(ru)\n",
    "    Q = wQ.value; Qu = Q * ureg(Lunits.value+'**3/'+Tunits.value); print('Pumping rate: ', end =\" \"); print(Qu)\n",
    "    T = wT.value; Tu = T * ureg(Lunits.value+'**2/'+Tunits.value); print('Transmissivity, initial guess: ', end =\" \");print(Tu)\n",
    "    S = wS.value; Su = S * ureg(''); print('Storativity, initial guess: ', end =\" \"); print(Su)\n",
    "\n",
    "    # parameter estimation---------------------------------------------------------\n",
    "    [Tfit,Sfit] = fmin (toptim, [T,S])\n",
    "    T = Tfit * ureg(Lunits.value+'**2/'+Tunits.value) \n",
    "    S = Sfit * ureg('') \n",
    "\n",
    "    # post-processing--------------------------------------------------------------   \n",
    "    D = Tfit/Sfit #print ('Diffusivity = '+ str(D * ureg(Lunits.value+'**2/'+Tunits.value)))\n",
    "    u = (((r*r)/4)/D)/tdata\n",
    "    s = Q*exp1(u)/4/np.pi/Tfit\n",
    "    dev = sdata-s     \n",
    "    dev2 = dev*dev; res = np.sqrt(sum(dev2)) \n",
    "    stde = np.sqrt(dev2.mean())\n",
    "    sr = 2*dev.std()                            # to compare with hytool !\n",
    "    fig = plt.figure(facecolor='w'); ax = fig.add_subplot()\n",
    "    ax.set_xscale('log')\n",
    "    plt.plot(tdata,sdata,'o',label = 'measured') \n",
    "    t = np.logspace(np.log10(tdata.min()),np.log10(tdata.max()),100)\n",
    "    u = (((r*r)/4)/D)/t\n",
    "    plt.plot(t,Q*exp1(u)/4/np.pi/Tfit,'-', label = 'modelled', lw = 2)\n",
    "    plt.xlabel('t ['+Tunits.value+']'); plt.ylabel('s ['+Lunits.value+']')\n",
    "    plt.title('Pumptest: '+wheader.value+'        Evaluation: Theis')\n",
    "    ax.grid(b=True, c='w', lw=2, ls='-')\n",
    "    plt.legend ()\n",
    "    ax.annotate ('$T =%.3e %s ^2/ %s $' % (Tfit,Lunits.value,Tunits.value), xy=(.6,.4), xycoords='figure fraction')\n",
    "    ax.annotate ('$S =%.3e $' % (Sfit, ), xy=(.6,.35), xycoords='figure fraction')\n",
    "    ax.annotate ('$2-norm = %.3e $' % (res, ), xy=(.6,.3), xycoords='figure fraction')\n",
    "    ax.annotate ('$stdev =%.3e $' % (stde, ), xy=(.6,.25), xycoords='figure fraction')\n",
    "    ax.annotate ('$2stdev =%.3e $' % (sr, ), xy=(.6,.2), xycoords='figure fraction');\n",
    "    \n",
    "weval1 = widgets.Button(description='Evaluate Theis')        \n",
    "weval1.on_click(on_weval1_clicked)   \n",
    "widgets.VBox([weval1])    "
   ]
  },
  {
   "cell_type": "markdown",
   "metadata": {
    "hideCode": false,
    "hidePrompt": false
   },
   "source": [
    "## Evaluation according to Hantush\n",
    "For the evaluation according to Hantush enter an initial guess for the semi-permeable layer resistence. Use the time unit specified above."
   ]
  },
  {
   "cell_type": "code",
   "execution_count": 15,
   "metadata": {
    "hideCode": false,
    "hidePrompt": false,
    "hide_input": true
   },
   "outputs": [
    {
     "data": {
      "application/vnd.jupyter.widget-view+json": {
       "model_id": "10d6f859b08c4e32b4d69e233af90022",
       "version_major": 2,
       "version_minor": 0
      },
      "text/plain": [
       "HBox(children=(FloatText(value=100000000.0, description='c:'),))"
      ]
     },
     "metadata": {},
     "output_type": "display_data"
    }
   ],
   "source": [
    "wc = widgets.FloatText(value=1e8, description='c:', min=1.e-10, disabled=False)\n",
    "widgets.HBox([wc])"
   ]
  },
  {
   "cell_type": "markdown",
   "metadata": {
    "hideCode": false,
    "hidePrompt": false
   },
   "source": [
    "The Hantush well function is computed following Maas & Veling (2010) and Veling & Maas (2010), using the exponential integral from the Python module *scipy.special*. For evaluating the pump test according to the formula of Hantush click the button!"
   ]
  },
  {
   "cell_type": "code",
   "execution_count": 16,
   "metadata": {
    "hideCode": false,
    "hidePrompt": false,
    "hide_input": true
   },
   "outputs": [
    {
     "data": {
      "application/vnd.jupyter.widget-view+json": {
       "model_id": "b041334ca44e4b35a13c44977776f960",
       "version_major": 2,
       "version_minor": 0
      },
      "text/plain": [
       "VBox(children=(Button(description='Evaluate Hantush', style=ButtonStyle()),))"
      ]
     },
     "metadata": {},
     "output_type": "display_data"
    }
   ],
   "source": [
    "from scipy.special import exp1\n",
    "from scipy.special import kn as BesselK\n",
    "from scipy.optimize import fmin  #fmin_l_bfgs_b\n",
    "%matplotlib notebook\n",
    "%matplotlib notebook\n",
    "plt.rcParams[\"figure.figsize\"] = (8,4) \n",
    "plt.rcParams['axes.facecolor'] = 'lightgray';\n",
    "\n",
    "def heval (t,r,T,S,c,Q):\n",
    "    T0  = np.where(T>1.e-10,T,1.e-10) \n",
    "    S0  = np.where(S>1.e-10,S,1.e-10)\n",
    "    c0  = np.where(c>1.e-10,c,1.e-10)\n",
    "    lamda = np.sqrt(T0*c0)\n",
    "    rho = r/lamda\n",
    "    tau = np.log(2*lamda/r*t/(c0*S0))\n",
    "    s = Q/(4*np.pi*T0)*func_F(rho,tau)\n",
    "    return s                            # drawdown \n",
    "\n",
    "def func_F(rho,tau):\n",
    "    # func_F is a fast approximation of Hantush well function W\n",
    "    e = exp1(rho)\n",
    "    e0 = np.where(e>0,e,1.e-10)\n",
    "    w = (e0-BesselK(0,rho))/(e0-exp1(rho/2))\n",
    "    #if tau <= 0:\n",
    "    F0 = w*exp1(rho/2*np.exp(-tau))-(w-1)*exp1(rho*np.cosh(tau))\n",
    "    #else:   \n",
    "    F1 = 2*BesselK(0,rho) - w*exp1(rho/2*np.exp(tau)) + (w-1)*exp1(rho*np.cosh(tau))   \n",
    "    return (tau<=0)*F0+(tau>0)*F1     \n",
    "\n",
    "def optim (x):  \n",
    "    T = x[0]; S = x[1]; c = x[2] \n",
    "    s = heval (tdata,wr.value,T,S,c,wQ.value)\n",
    "    res = (s-sdata)\n",
    "    return sum(res*res)\n",
    "\n",
    "def on_weval2_clicked(self):   \n",
    "    global tdata,sdata\n",
    "    #[tdata,sdata] = uconvert(t1,s1)\n",
    "    r = wr.value; ru = r * ureg(Lunits.value); print('Distance between wells: ', end =\" \"); print(ru)\n",
    "    Q = wQ.value; Qu = Q * ureg(Lunits.value+'**3/'+Tunits.value); print('Pumping rate: ', end =\" \"); print(Qu)\n",
    "    T = wT.value; Tu = T * ureg(Lunits.value+'**2/'+Tunits.value); print('Transmissivity, initial guess: ', end =\" \");print(Tu)\n",
    "    S = wS.value; Su = S * ureg(''); print('Storativity, initial guess: ', end =\" \"); print(Su)\n",
    "    c = wc.value; cu = c * ureg(Tunits.value); print('Resistence, initial guess: ', end =\" \"); print(cu)\n",
    "\n",
    "    # parameter estimation \n",
    "    #x = fmin_l_bfgs_b(optim, [T,S,c], approx_grad=1, bounds=((1.e-10, 1.e10), (1.e-10, 1.e10), (1.e-10, 1.e10)))   \n",
    "    #Tfit = x[0][0]; Sfit = x[0][1]; cfit = x[0][2]\n",
    "    [Tfit,Sfit,cfit] = fmin (optim, [T,S,c])\n",
    "    T = Tfit * ureg(Lunits.value+'**2/'+Tunits.value) \n",
    "    S = Sfit * ureg('') \n",
    "    c = cfit * ureg(Tunits.value)\n",
    "\n",
    "    # post-processing--------------------------------------------------------------   \n",
    "    D = T/S #print ('D='+str(D))\n",
    "    s = heval (tdata,r,Tfit,Sfit,cfit,Q)\n",
    "    dev = sdata-s                             #sfit-s \n",
    "    dev2 = dev*dev; res = np.sqrt(sum(dev2)) \n",
    "    stde = np.sqrt(dev2.mean())\n",
    "    sr = 2*dev.std()                            # to compare with hytool !\n",
    "    fig = plt.figure(facecolor='w'); ax = fig.add_subplot()\n",
    "    ax.set_xscale('log')\n",
    "    plt.plot(tdata,sdata,'o',label = 'measured') \n",
    "    t = np.logspace(np.log10(tdata.min()),np.log10(tdata.max()),100)\n",
    "    plt.plot(t,heval(t,r,Tfit,Sfit,cfit,Q),'-', label = 'modelled', lw = 2)\n",
    "    plt.xlabel('t ['+Tunits.value+']'); plt.ylabel('s ['+Lunits.value+']')\n",
    "    plt.title('Pumptest: '+wheader.value+'        Evaluation: Hantush')\n",
    "    ax.grid(b=True, c='w', lw=2, ls='-')\n",
    "    plt.legend ()\n",
    "    ax.annotate ('$T =%.3e %s ^2/ %s $' % (Tfit,Lunits.value,Tunits.value), xy=(.6,.4), xycoords='figure fraction')\n",
    "    ax.annotate ('$S =%.3e $' % (Sfit, ), xy=(.6,.35), xycoords='figure fraction')\n",
    "    ax.annotate ('$c =%.3e %s $' % (cfit,Tunits.value), xy=(.6,.3), xycoords='figure fraction')\n",
    "    ax.annotate ('$2-norm = %.3e $' % (res, ), xy=(.6,.25), xycoords='figure fraction')\n",
    "    ax.annotate ('$stdev =%.3e $' % (stde, ), xy=(.6,.2), xycoords='figure fraction')\n",
    "    ax.annotate ('$2stdev =%.3e $' % (sr, ), xy=(.6,.15), xycoords='figure fraction');\n",
    "    \n",
    "weval2 = widgets.Button(description='Evaluate Hantush')        \n",
    "weval2.on_click(on_weval2_clicked)   \n",
    "widgets.VBox([weval2])"
   ]
  },
  {
   "cell_type": "code",
   "execution_count": null,
   "metadata": {
    "hideCode": false,
    "hidePrompt": false
   },
   "outputs": [],
   "source": []
  }
 ],
 "metadata": {
  "hide_code_all_hidden": false,
  "hide_input": false,
  "kernelspec": {
   "display_name": "Python 3",
   "language": "python",
   "name": "python3"
  },
  "language_info": {
   "codemirror_mode": {
    "name": "ipython",
    "version": 3
   },
   "file_extension": ".py",
   "mimetype": "text/x-python",
   "name": "python",
   "nbconvert_exporter": "python",
   "pygments_lexer": "ipython3",
   "version": "3.7.6"
  },
  "toc": {
   "base_numbering": 1,
   "nav_menu": {},
   "number_sections": true,
   "sideBar": true,
   "skip_h1_title": false,
   "title_cell": "Table of Contents",
   "title_sidebar": "Contents",
   "toc_cell": true,
   "toc_position": {},
   "toc_section_display": true,
   "toc_window_display": true
  },
  "varInspector": {
   "cols": {
    "lenName": 16,
    "lenType": 16,
    "lenVar": 40
   },
   "kernels_config": {
    "python": {
     "delete_cmd_postfix": "",
     "delete_cmd_prefix": "del ",
     "library": "var_list.py",
     "varRefreshCmd": "print(var_dic_list())"
    },
    "r": {
     "delete_cmd_postfix": ") ",
     "delete_cmd_prefix": "rm(",
     "library": "var_list.r",
     "varRefreshCmd": "cat(var_dic_list()) "
    }
   },
   "position": {
    "height": "461.85px",
    "left": "660px",
    "right": "20px",
    "top": "187px",
    "width": "626px"
   },
   "types_to_exclude": [
    "module",
    "function",
    "builtin_function_or_method",
    "instance",
    "_Feature"
   ],
   "window_display": false
  }
 },
 "nbformat": 4,
 "nbformat_minor": 4
}
